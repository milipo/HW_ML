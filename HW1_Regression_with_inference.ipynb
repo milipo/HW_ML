{
 "cells": [
  {
   "cell_type": "markdown",
   "metadata": {
    "id": "IsPer4g5FgRB"
   },
   "source": [
    "# Домашнее задание №1\n",
    "\n",
    "В этом домашнем задании вам предлагается обучить модель регрессии для предсказания стоимости автомобилей, а также реализовать веб-сервис для применения построенной модели на новых данных.\n",
    "\n",
    "> Оценка за домашку = min(ваш балл, 10)\n"
   ]
  },
  {
   "cell_type": "markdown",
   "metadata": {
    "id": "RBxaROjhnExd"
   },
   "source": [
    "Задания, <font color='#9933CC'>выделенные фиолетовым</font>, требуют от вас написания кода.\n",
    "\n",
    "А вопросы, <font color='#FF6600'>выделенные оранжевым</font>, текстового ответа.\n",
    "\n",
    "Оцениваются как код, так и ответы на вопросы. Если нет одного и/или другого, то часть баллов за соответствующее задание без колебаний снимается."
   ]
  },
  {
   "cell_type": "code",
   "execution_count": 517,
   "metadata": {
    "id": "bKXD33FOsnGd"
   },
   "outputs": [],
   "source": [
    "import pandas as pd\n",
    "import numpy as np\n",
    "import matplotlib.pyplot as plt\n",
    "import random\n",
    "import seaborn as sns\n",
    "from sklearn.preprocessing import StandardScaler\n",
    "from sklearn.linear_model import Ridge\n",
    "from sklearn.model_selection import GridSearchCV\n",
    "from sklearn.linear_model import LinearRegression\n",
    "from sklearn.metrics import r2_score, mean_squared_error as MSE\n",
    "import pickle\n",
    "from sklearn.preprocessing import OneHotEncoder"
   ]
  },
  {
   "cell_type": "code",
   "execution_count": 518,
   "metadata": {},
   "outputs": [],
   "source": [
    "random.seed(42)\n",
    "np.random.RandomState = 42"
   ]
  },
  {
   "cell_type": "markdown",
   "metadata": {
    "id": "GAzbEw1ctU4f"
   },
   "source": [
    "Ниже ответьте на вопрос <font color='#FF6600'>\n",
    "\"Для чего фиксируем сиды в домашках?\"</font>"
   ]
  },
  {
   "cell_type": "markdown",
   "metadata": {},
   "source": [
    "Для того, чтобы у нас были воспроизводимые результаты. То есть, можно было бы получить их еще раз."
   ]
  },
  {
   "cell_type": "markdown",
   "metadata": {
    "id": "ykzSVgN7q-xZ"
   },
   "source": [
    "# Часть 1 (2.5 балла + 0.75) | EDA"
   ]
  },
  {
   "cell_type": "markdown",
   "metadata": {
    "id": "e-4bM9CKAtCj"
   },
   "source": [
    "## Простейший EDA и обработка признаков (1.5 балла + 0.25)"
   ]
  },
  {
   "cell_type": "code",
   "execution_count": 519,
   "metadata": {
    "id": "FniH6eCGFSi_"
   },
   "outputs": [
    {
     "name": "stdout",
     "output_type": "stream",
     "text": [
      "Train data shape: (6999, 13)\n",
      "Test data shape:  (1000, 13)\n"
     ]
    }
   ],
   "source": [
    "df_train = pd.read_csv('https://raw.githubusercontent.com/Murcha1990/MLDS_ML_2022/main/Hometasks/HT1/cars_train.csv')\n",
    "df_test = pd.read_csv('https://raw.githubusercontent.com/Murcha1990/MLDS_ML_2022/main/Hometasks/HT1/cars_test.csv')\n",
    "\n",
    "print(\"Train data shape:\", df_train.shape)\n",
    "print(\"Test data shape: \", df_test.shape)"
   ]
  },
  {
   "cell_type": "markdown",
   "metadata": {
    "id": "spIXQ6zwxT9I"
   },
   "source": [
    "(0.15 балла) <font color='#9933CC'>Отобразите 10 **случайных** строк тренировочного датасета</font>"
   ]
  },
  {
   "cell_type": "code",
   "execution_count": 520,
   "metadata": {},
   "outputs": [
    {
     "data": {
      "text/html": [
       "<div>\n",
       "<style scoped>\n",
       "    .dataframe tbody tr th:only-of-type {\n",
       "        vertical-align: middle;\n",
       "    }\n",
       "\n",
       "    .dataframe tbody tr th {\n",
       "        vertical-align: top;\n",
       "    }\n",
       "\n",
       "    .dataframe thead th {\n",
       "        text-align: right;\n",
       "    }\n",
       "</style>\n",
       "<table border=\"1\" class=\"dataframe\">\n",
       "  <thead>\n",
       "    <tr style=\"text-align: right;\">\n",
       "      <th></th>\n",
       "      <th>name</th>\n",
       "      <th>year</th>\n",
       "      <th>selling_price</th>\n",
       "      <th>km_driven</th>\n",
       "      <th>fuel</th>\n",
       "      <th>seller_type</th>\n",
       "      <th>transmission</th>\n",
       "      <th>owner</th>\n",
       "      <th>mileage</th>\n",
       "      <th>engine</th>\n",
       "      <th>max_power</th>\n",
       "      <th>torque</th>\n",
       "      <th>seats</th>\n",
       "    </tr>\n",
       "  </thead>\n",
       "  <tbody>\n",
       "    <tr>\n",
       "      <th>5238</th>\n",
       "      <td>Ford Freestyle Trend Diesel BSIV</td>\n",
       "      <td>2018</td>\n",
       "      <td>675000</td>\n",
       "      <td>60000</td>\n",
       "      <td>Diesel</td>\n",
       "      <td>Individual</td>\n",
       "      <td>Manual</td>\n",
       "      <td>First Owner</td>\n",
       "      <td>24.4 kmpl</td>\n",
       "      <td>1498 CC</td>\n",
       "      <td>98.63 bhp</td>\n",
       "      <td>215Nm@ 1750-3000rpm</td>\n",
       "      <td>5.0</td>\n",
       "    </tr>\n",
       "    <tr>\n",
       "      <th>912</th>\n",
       "      <td>Mercedes-Benz E-Class E250 CDI Avantgarde</td>\n",
       "      <td>2016</td>\n",
       "      <td>2900000</td>\n",
       "      <td>31000</td>\n",
       "      <td>Diesel</td>\n",
       "      <td>Dealer</td>\n",
       "      <td>Automatic</td>\n",
       "      <td>First Owner</td>\n",
       "      <td>13.0 kmpl</td>\n",
       "      <td>2143 CC</td>\n",
       "      <td>204 bhp</td>\n",
       "      <td>500Nm@ 1600-1800rpm</td>\n",
       "      <td>5.0</td>\n",
       "    </tr>\n",
       "    <tr>\n",
       "      <th>204</th>\n",
       "      <td>Hyundai Creta 1.6 CRDi SX Plus Dual Tone</td>\n",
       "      <td>2017</td>\n",
       "      <td>1100000</td>\n",
       "      <td>37000</td>\n",
       "      <td>Diesel</td>\n",
       "      <td>Individual</td>\n",
       "      <td>Manual</td>\n",
       "      <td>First Owner</td>\n",
       "      <td>19.67 kmpl</td>\n",
       "      <td>1582 CC</td>\n",
       "      <td>126.2 bhp</td>\n",
       "      <td>259.9Nm@ 1900-2750rpm</td>\n",
       "      <td>5.0</td>\n",
       "    </tr>\n",
       "    <tr>\n",
       "      <th>6074</th>\n",
       "      <td>Toyota Innova 2.5 E Diesel MS 8-seater</td>\n",
       "      <td>2007</td>\n",
       "      <td>409999</td>\n",
       "      <td>248119</td>\n",
       "      <td>Diesel</td>\n",
       "      <td>Individual</td>\n",
       "      <td>Manual</td>\n",
       "      <td>Fourth &amp; Above Owner</td>\n",
       "      <td>12.8 kmpl</td>\n",
       "      <td>2494 CC</td>\n",
       "      <td>102 bhp</td>\n",
       "      <td>20.4@ 1400-3400(kgm@ rpm)</td>\n",
       "      <td>8.0</td>\n",
       "    </tr>\n",
       "    <tr>\n",
       "      <th>2253</th>\n",
       "      <td>Maruti Wagon R LXI CNG</td>\n",
       "      <td>2011</td>\n",
       "      <td>200000</td>\n",
       "      <td>137000</td>\n",
       "      <td>CNG</td>\n",
       "      <td>Individual</td>\n",
       "      <td>Manual</td>\n",
       "      <td>First Owner</td>\n",
       "      <td>26.2 km/kg</td>\n",
       "      <td>998 CC</td>\n",
       "      <td>58.2 bhp</td>\n",
       "      <td>77Nm@ 3500rpm</td>\n",
       "      <td>5.0</td>\n",
       "    </tr>\n",
       "    <tr>\n",
       "      <th>2006</th>\n",
       "      <td>Maruti Wagon R LXI BS IV</td>\n",
       "      <td>2016</td>\n",
       "      <td>350000</td>\n",
       "      <td>70000</td>\n",
       "      <td>Petrol</td>\n",
       "      <td>Individual</td>\n",
       "      <td>Manual</td>\n",
       "      <td>First Owner</td>\n",
       "      <td>20.51 kmpl</td>\n",
       "      <td>998 CC</td>\n",
       "      <td>67.04 bhp</td>\n",
       "      <td>90Nm@ 3500rpm</td>\n",
       "      <td>5.0</td>\n",
       "    </tr>\n",
       "    <tr>\n",
       "      <th>1828</th>\n",
       "      <td>Maruti Swift Dzire LDi</td>\n",
       "      <td>2010</td>\n",
       "      <td>215000</td>\n",
       "      <td>120000</td>\n",
       "      <td>Diesel</td>\n",
       "      <td>Individual</td>\n",
       "      <td>Manual</td>\n",
       "      <td>Third Owner</td>\n",
       "      <td>19.3 kmpl</td>\n",
       "      <td>1248 CC</td>\n",
       "      <td>73.9 bhp</td>\n",
       "      <td>190Nm@ 2000rpm</td>\n",
       "      <td>5.0</td>\n",
       "    </tr>\n",
       "    <tr>\n",
       "      <th>1143</th>\n",
       "      <td>Maruti Celerio VDi</td>\n",
       "      <td>2015</td>\n",
       "      <td>250000</td>\n",
       "      <td>100000</td>\n",
       "      <td>Diesel</td>\n",
       "      <td>Individual</td>\n",
       "      <td>Manual</td>\n",
       "      <td>Second Owner</td>\n",
       "      <td>27.62 kmpl</td>\n",
       "      <td>793 CC</td>\n",
       "      <td>47 bhp</td>\n",
       "      <td>125Nm@ 2000rpm</td>\n",
       "      <td>5.0</td>\n",
       "    </tr>\n",
       "    <tr>\n",
       "      <th>6033</th>\n",
       "      <td>Hyundai i20 Sportz 1.2</td>\n",
       "      <td>2013</td>\n",
       "      <td>315000</td>\n",
       "      <td>49000</td>\n",
       "      <td>Petrol</td>\n",
       "      <td>Individual</td>\n",
       "      <td>Manual</td>\n",
       "      <td>Second Owner</td>\n",
       "      <td>18.5 kmpl</td>\n",
       "      <td>1197 CC</td>\n",
       "      <td>82.85 bhp</td>\n",
       "      <td>113.7Nm@ 4000rpm</td>\n",
       "      <td>5.0</td>\n",
       "    </tr>\n",
       "    <tr>\n",
       "      <th>839</th>\n",
       "      <td>Maruti Wagon R VXI BS IV</td>\n",
       "      <td>2011</td>\n",
       "      <td>200000</td>\n",
       "      <td>94000</td>\n",
       "      <td>Petrol</td>\n",
       "      <td>Individual</td>\n",
       "      <td>Manual</td>\n",
       "      <td>Third Owner</td>\n",
       "      <td>18.9 kmpl</td>\n",
       "      <td>998 CC</td>\n",
       "      <td>67.1 bhp</td>\n",
       "      <td>90Nm@ 3500rpm</td>\n",
       "      <td>5.0</td>\n",
       "    </tr>\n",
       "  </tbody>\n",
       "</table>\n",
       "</div>"
      ],
      "text/plain": [
       "                                           name  year  selling_price  \\\n",
       "5238           Ford Freestyle Trend Diesel BSIV  2018         675000   \n",
       "912   Mercedes-Benz E-Class E250 CDI Avantgarde  2016        2900000   \n",
       "204    Hyundai Creta 1.6 CRDi SX Plus Dual Tone  2017        1100000   \n",
       "6074     Toyota Innova 2.5 E Diesel MS 8-seater  2007         409999   \n",
       "2253                     Maruti Wagon R LXI CNG  2011         200000   \n",
       "2006                   Maruti Wagon R LXI BS IV  2016         350000   \n",
       "1828                     Maruti Swift Dzire LDi  2010         215000   \n",
       "1143                         Maruti Celerio VDi  2015         250000   \n",
       "6033                     Hyundai i20 Sportz 1.2  2013         315000   \n",
       "839                    Maruti Wagon R VXI BS IV  2011         200000   \n",
       "\n",
       "      km_driven    fuel seller_type transmission                 owner  \\\n",
       "5238      60000  Diesel  Individual       Manual           First Owner   \n",
       "912       31000  Diesel      Dealer    Automatic           First Owner   \n",
       "204       37000  Diesel  Individual       Manual           First Owner   \n",
       "6074     248119  Diesel  Individual       Manual  Fourth & Above Owner   \n",
       "2253     137000     CNG  Individual       Manual           First Owner   \n",
       "2006      70000  Petrol  Individual       Manual           First Owner   \n",
       "1828     120000  Diesel  Individual       Manual           Third Owner   \n",
       "1143     100000  Diesel  Individual       Manual          Second Owner   \n",
       "6033      49000  Petrol  Individual       Manual          Second Owner   \n",
       "839       94000  Petrol  Individual       Manual           Third Owner   \n",
       "\n",
       "         mileage   engine  max_power                     torque  seats  \n",
       "5238   24.4 kmpl  1498 CC  98.63 bhp        215Nm@ 1750-3000rpm    5.0  \n",
       "912    13.0 kmpl  2143 CC    204 bhp        500Nm@ 1600-1800rpm    5.0  \n",
       "204   19.67 kmpl  1582 CC  126.2 bhp      259.9Nm@ 1900-2750rpm    5.0  \n",
       "6074   12.8 kmpl  2494 CC    102 bhp  20.4@ 1400-3400(kgm@ rpm)    8.0  \n",
       "2253  26.2 km/kg   998 CC   58.2 bhp              77Nm@ 3500rpm    5.0  \n",
       "2006  20.51 kmpl   998 CC  67.04 bhp              90Nm@ 3500rpm    5.0  \n",
       "1828   19.3 kmpl  1248 CC   73.9 bhp             190Nm@ 2000rpm    5.0  \n",
       "1143  27.62 kmpl   793 CC     47 bhp             125Nm@ 2000rpm    5.0  \n",
       "6033   18.5 kmpl  1197 CC  82.85 bhp           113.7Nm@ 4000rpm    5.0  \n",
       "839    18.9 kmpl   998 CC   67.1 bhp              90Nm@ 3500rpm    5.0  "
      ]
     },
     "execution_count": 520,
     "metadata": {},
     "output_type": "execute_result"
    }
   ],
   "source": [
    "randoms_for_sample = random.sample(range(0, len(df_train)), 10)\n",
    "df_train.take(randoms_for_sample)"
   ]
  },
  {
   "cell_type": "markdown",
   "metadata": {
    "id": "c5UQKCGTxogp"
   },
   "source": [
    "(0.1 балла) <font color='#9933CC'>Отобразите первые 5 и последние 5 объектов тестового датасета</font>"
   ]
  },
  {
   "cell_type": "code",
   "execution_count": 521,
   "metadata": {
    "id": "-MueJLE4rO1g"
   },
   "outputs": [
    {
     "data": {
      "text/html": [
       "<div>\n",
       "<style scoped>\n",
       "    .dataframe tbody tr th:only-of-type {\n",
       "        vertical-align: middle;\n",
       "    }\n",
       "\n",
       "    .dataframe tbody tr th {\n",
       "        vertical-align: top;\n",
       "    }\n",
       "\n",
       "    .dataframe thead th {\n",
       "        text-align: right;\n",
       "    }\n",
       "</style>\n",
       "<table border=\"1\" class=\"dataframe\">\n",
       "  <thead>\n",
       "    <tr style=\"text-align: right;\">\n",
       "      <th></th>\n",
       "      <th>name</th>\n",
       "      <th>year</th>\n",
       "      <th>selling_price</th>\n",
       "      <th>km_driven</th>\n",
       "      <th>fuel</th>\n",
       "      <th>seller_type</th>\n",
       "      <th>transmission</th>\n",
       "      <th>owner</th>\n",
       "      <th>mileage</th>\n",
       "      <th>engine</th>\n",
       "      <th>max_power</th>\n",
       "      <th>torque</th>\n",
       "      <th>seats</th>\n",
       "    </tr>\n",
       "  </thead>\n",
       "  <tbody>\n",
       "    <tr>\n",
       "      <th>0</th>\n",
       "      <td>Mahindra Xylo E4 BS IV</td>\n",
       "      <td>2010</td>\n",
       "      <td>229999</td>\n",
       "      <td>168000</td>\n",
       "      <td>Diesel</td>\n",
       "      <td>Individual</td>\n",
       "      <td>Manual</td>\n",
       "      <td>First Owner</td>\n",
       "      <td>14.0 kmpl</td>\n",
       "      <td>2498 CC</td>\n",
       "      <td>112 bhp</td>\n",
       "      <td>260 Nm at 1800-2200 rpm</td>\n",
       "      <td>7.0</td>\n",
       "    </tr>\n",
       "    <tr>\n",
       "      <th>1</th>\n",
       "      <td>Tata Nexon 1.5 Revotorq XE</td>\n",
       "      <td>2017</td>\n",
       "      <td>665000</td>\n",
       "      <td>25000</td>\n",
       "      <td>Diesel</td>\n",
       "      <td>Individual</td>\n",
       "      <td>Manual</td>\n",
       "      <td>First Owner</td>\n",
       "      <td>21.5 kmpl</td>\n",
       "      <td>1497 CC</td>\n",
       "      <td>108.5 bhp</td>\n",
       "      <td>260Nm@ 1500-2750rpm</td>\n",
       "      <td>5.0</td>\n",
       "    </tr>\n",
       "    <tr>\n",
       "      <th>2</th>\n",
       "      <td>Honda Civic 1.8 S AT</td>\n",
       "      <td>2007</td>\n",
       "      <td>175000</td>\n",
       "      <td>218463</td>\n",
       "      <td>Petrol</td>\n",
       "      <td>Individual</td>\n",
       "      <td>Automatic</td>\n",
       "      <td>First Owner</td>\n",
       "      <td>12.9 kmpl</td>\n",
       "      <td>1799 CC</td>\n",
       "      <td>130 bhp</td>\n",
       "      <td>172Nm@ 4300rpm</td>\n",
       "      <td>5.0</td>\n",
       "    </tr>\n",
       "    <tr>\n",
       "      <th>3</th>\n",
       "      <td>Honda City i DTEC VX</td>\n",
       "      <td>2015</td>\n",
       "      <td>635000</td>\n",
       "      <td>173000</td>\n",
       "      <td>Diesel</td>\n",
       "      <td>Individual</td>\n",
       "      <td>Manual</td>\n",
       "      <td>First Owner</td>\n",
       "      <td>25.1 kmpl</td>\n",
       "      <td>1498 CC</td>\n",
       "      <td>98.6 bhp</td>\n",
       "      <td>200Nm@ 1750rpm</td>\n",
       "      <td>5.0</td>\n",
       "    </tr>\n",
       "    <tr>\n",
       "      <th>4</th>\n",
       "      <td>Tata Indica Vista Aura 1.2 Safire BSIV</td>\n",
       "      <td>2011</td>\n",
       "      <td>130000</td>\n",
       "      <td>70000</td>\n",
       "      <td>Petrol</td>\n",
       "      <td>Individual</td>\n",
       "      <td>Manual</td>\n",
       "      <td>Second Owner</td>\n",
       "      <td>16.5 kmpl</td>\n",
       "      <td>1172 CC</td>\n",
       "      <td>65 bhp</td>\n",
       "      <td>96  Nm at 3000  rpm</td>\n",
       "      <td>5.0</td>\n",
       "    </tr>\n",
       "  </tbody>\n",
       "</table>\n",
       "</div>"
      ],
      "text/plain": [
       "                                     name  year  selling_price  km_driven  \\\n",
       "0                  Mahindra Xylo E4 BS IV  2010         229999     168000   \n",
       "1              Tata Nexon 1.5 Revotorq XE  2017         665000      25000   \n",
       "2                    Honda Civic 1.8 S AT  2007         175000     218463   \n",
       "3                    Honda City i DTEC VX  2015         635000     173000   \n",
       "4  Tata Indica Vista Aura 1.2 Safire BSIV  2011         130000      70000   \n",
       "\n",
       "     fuel seller_type transmission         owner    mileage   engine  \\\n",
       "0  Diesel  Individual       Manual   First Owner  14.0 kmpl  2498 CC   \n",
       "1  Diesel  Individual       Manual   First Owner  21.5 kmpl  1497 CC   \n",
       "2  Petrol  Individual    Automatic   First Owner  12.9 kmpl  1799 CC   \n",
       "3  Diesel  Individual       Manual   First Owner  25.1 kmpl  1498 CC   \n",
       "4  Petrol  Individual       Manual  Second Owner  16.5 kmpl  1172 CC   \n",
       "\n",
       "   max_power                   torque  seats  \n",
       "0    112 bhp  260 Nm at 1800-2200 rpm    7.0  \n",
       "1  108.5 bhp      260Nm@ 1500-2750rpm    5.0  \n",
       "2    130 bhp           172Nm@ 4300rpm    5.0  \n",
       "3   98.6 bhp           200Nm@ 1750rpm    5.0  \n",
       "4     65 bhp     96  Nm at 3000  rpm     5.0  "
      ]
     },
     "execution_count": 521,
     "metadata": {},
     "output_type": "execute_result"
    }
   ],
   "source": [
    "df_test.head(5)"
   ]
  },
  {
   "cell_type": "code",
   "execution_count": 522,
   "metadata": {},
   "outputs": [
    {
     "data": {
      "text/html": [
       "<div>\n",
       "<style scoped>\n",
       "    .dataframe tbody tr th:only-of-type {\n",
       "        vertical-align: middle;\n",
       "    }\n",
       "\n",
       "    .dataframe tbody tr th {\n",
       "        vertical-align: top;\n",
       "    }\n",
       "\n",
       "    .dataframe thead th {\n",
       "        text-align: right;\n",
       "    }\n",
       "</style>\n",
       "<table border=\"1\" class=\"dataframe\">\n",
       "  <thead>\n",
       "    <tr style=\"text-align: right;\">\n",
       "      <th></th>\n",
       "      <th>name</th>\n",
       "      <th>year</th>\n",
       "      <th>selling_price</th>\n",
       "      <th>km_driven</th>\n",
       "      <th>fuel</th>\n",
       "      <th>seller_type</th>\n",
       "      <th>transmission</th>\n",
       "      <th>owner</th>\n",
       "      <th>mileage</th>\n",
       "      <th>engine</th>\n",
       "      <th>max_power</th>\n",
       "      <th>torque</th>\n",
       "      <th>seats</th>\n",
       "    </tr>\n",
       "  </thead>\n",
       "  <tbody>\n",
       "    <tr>\n",
       "      <th>995</th>\n",
       "      <td>Hyundai i10 Magna 1.1L</td>\n",
       "      <td>2008</td>\n",
       "      <td>250000</td>\n",
       "      <td>100000</td>\n",
       "      <td>Petrol</td>\n",
       "      <td>Individual</td>\n",
       "      <td>Manual</td>\n",
       "      <td>Second Owner</td>\n",
       "      <td>19.81 kmpl</td>\n",
       "      <td>1086 CC</td>\n",
       "      <td>68.05 bhp</td>\n",
       "      <td>99.04Nm@ 4500rpm</td>\n",
       "      <td>5.0</td>\n",
       "    </tr>\n",
       "    <tr>\n",
       "      <th>996</th>\n",
       "      <td>Hyundai i20 2015-2017 Sportz 1.2</td>\n",
       "      <td>2017</td>\n",
       "      <td>440000</td>\n",
       "      <td>50000</td>\n",
       "      <td>Petrol</td>\n",
       "      <td>Individual</td>\n",
       "      <td>Manual</td>\n",
       "      <td>Second Owner</td>\n",
       "      <td>18.6 kmpl</td>\n",
       "      <td>1197 CC</td>\n",
       "      <td>81.83 bhp</td>\n",
       "      <td>114.7Nm@ 4000rpm</td>\n",
       "      <td>5.0</td>\n",
       "    </tr>\n",
       "    <tr>\n",
       "      <th>997</th>\n",
       "      <td>Hyundai i20 Era Diesel</td>\n",
       "      <td>2009</td>\n",
       "      <td>340000</td>\n",
       "      <td>40000</td>\n",
       "      <td>Diesel</td>\n",
       "      <td>Individual</td>\n",
       "      <td>Manual</td>\n",
       "      <td>First Owner</td>\n",
       "      <td>23.0 kmpl</td>\n",
       "      <td>1396 CC</td>\n",
       "      <td>90 bhp</td>\n",
       "      <td>22.4 kgm at 1750-2750rpm</td>\n",
       "      <td>5.0</td>\n",
       "    </tr>\n",
       "    <tr>\n",
       "      <th>998</th>\n",
       "      <td>Hyundai i10 Asta</td>\n",
       "      <td>2012</td>\n",
       "      <td>350000</td>\n",
       "      <td>25000</td>\n",
       "      <td>Petrol</td>\n",
       "      <td>Individual</td>\n",
       "      <td>Manual</td>\n",
       "      <td>First Owner</td>\n",
       "      <td>20.36 kmpl</td>\n",
       "      <td>1197 CC</td>\n",
       "      <td>78.9 bhp</td>\n",
       "      <td>111.8Nm@ 4000rpm</td>\n",
       "      <td>5.0</td>\n",
       "    </tr>\n",
       "    <tr>\n",
       "      <th>999</th>\n",
       "      <td>Honda City i DTec SV</td>\n",
       "      <td>2016</td>\n",
       "      <td>700000</td>\n",
       "      <td>110000</td>\n",
       "      <td>Diesel</td>\n",
       "      <td>Individual</td>\n",
       "      <td>Manual</td>\n",
       "      <td>First Owner</td>\n",
       "      <td>26.0 kmpl</td>\n",
       "      <td>1498 CC</td>\n",
       "      <td>98.6 bhp</td>\n",
       "      <td>200Nm@ 1750rpm</td>\n",
       "      <td>5.0</td>\n",
       "    </tr>\n",
       "  </tbody>\n",
       "</table>\n",
       "</div>"
      ],
      "text/plain": [
       "                                 name  year  selling_price  km_driven    fuel  \\\n",
       "995            Hyundai i10 Magna 1.1L  2008         250000     100000  Petrol   \n",
       "996  Hyundai i20 2015-2017 Sportz 1.2  2017         440000      50000  Petrol   \n",
       "997            Hyundai i20 Era Diesel  2009         340000      40000  Diesel   \n",
       "998                  Hyundai i10 Asta  2012         350000      25000  Petrol   \n",
       "999              Honda City i DTec SV  2016         700000     110000  Diesel   \n",
       "\n",
       "    seller_type transmission         owner     mileage   engine  max_power  \\\n",
       "995  Individual       Manual  Second Owner  19.81 kmpl  1086 CC  68.05 bhp   \n",
       "996  Individual       Manual  Second Owner   18.6 kmpl  1197 CC  81.83 bhp   \n",
       "997  Individual       Manual   First Owner   23.0 kmpl  1396 CC     90 bhp   \n",
       "998  Individual       Manual   First Owner  20.36 kmpl  1197 CC   78.9 bhp   \n",
       "999  Individual       Manual   First Owner   26.0 kmpl  1498 CC   98.6 bhp   \n",
       "\n",
       "                       torque  seats  \n",
       "995          99.04Nm@ 4500rpm    5.0  \n",
       "996          114.7Nm@ 4000rpm    5.0  \n",
       "997  22.4 kgm at 1750-2750rpm    5.0  \n",
       "998          111.8Nm@ 4000rpm    5.0  \n",
       "999            200Nm@ 1750rpm    5.0  "
      ]
     },
     "execution_count": 522,
     "metadata": {},
     "output_type": "execute_result"
    }
   ],
   "source": [
    "df_test.tail(5)"
   ]
  },
  {
   "cell_type": "markdown",
   "metadata": {
    "id": "6fAcrLkBygwE"
   },
   "source": [
    "(0.1 балла) <font color='#9933CC'>Посчитайте основные статистики как по числовым, так и по категориальным столбцам для трейна и теста</font>. \n",
    "> Подсказка: ``.describe()`` с нужным(и) аргументом(-ами)\n",
    "\n"
   ]
  },
  {
   "cell_type": "code",
   "execution_count": 523,
   "metadata": {
    "id": "eaiIQCvMrPUb"
   },
   "outputs": [
    {
     "data": {
      "text/html": [
       "<div>\n",
       "<style scoped>\n",
       "    .dataframe tbody tr th:only-of-type {\n",
       "        vertical-align: middle;\n",
       "    }\n",
       "\n",
       "    .dataframe tbody tr th {\n",
       "        vertical-align: top;\n",
       "    }\n",
       "\n",
       "    .dataframe thead th {\n",
       "        text-align: right;\n",
       "    }\n",
       "</style>\n",
       "<table border=\"1\" class=\"dataframe\">\n",
       "  <thead>\n",
       "    <tr style=\"text-align: right;\">\n",
       "      <th></th>\n",
       "      <th>name</th>\n",
       "      <th>year</th>\n",
       "      <th>selling_price</th>\n",
       "      <th>km_driven</th>\n",
       "      <th>fuel</th>\n",
       "      <th>seller_type</th>\n",
       "      <th>transmission</th>\n",
       "      <th>owner</th>\n",
       "      <th>mileage</th>\n",
       "      <th>engine</th>\n",
       "      <th>max_power</th>\n",
       "      <th>torque</th>\n",
       "      <th>seats</th>\n",
       "    </tr>\n",
       "  </thead>\n",
       "  <tbody>\n",
       "    <tr>\n",
       "      <th>count</th>\n",
       "      <td>1000</td>\n",
       "      <td>1000.000000</td>\n",
       "      <td>1.000000e+03</td>\n",
       "      <td>1000.000000</td>\n",
       "      <td>1000</td>\n",
       "      <td>1000</td>\n",
       "      <td>1000</td>\n",
       "      <td>1000</td>\n",
       "      <td>981</td>\n",
       "      <td>981</td>\n",
       "      <td>981</td>\n",
       "      <td>981</td>\n",
       "      <td>981.000000</td>\n",
       "    </tr>\n",
       "    <tr>\n",
       "      <th>unique</th>\n",
       "      <td>621</td>\n",
       "      <td>NaN</td>\n",
       "      <td>NaN</td>\n",
       "      <td>NaN</td>\n",
       "      <td>4</td>\n",
       "      <td>3</td>\n",
       "      <td>2</td>\n",
       "      <td>5</td>\n",
       "      <td>237</td>\n",
       "      <td>88</td>\n",
       "      <td>182</td>\n",
       "      <td>226</td>\n",
       "      <td>NaN</td>\n",
       "    </tr>\n",
       "    <tr>\n",
       "      <th>top</th>\n",
       "      <td>Maruti Alto 800 LXI</td>\n",
       "      <td>NaN</td>\n",
       "      <td>NaN</td>\n",
       "      <td>NaN</td>\n",
       "      <td>Diesel</td>\n",
       "      <td>Individual</td>\n",
       "      <td>Manual</td>\n",
       "      <td>First Owner</td>\n",
       "      <td>18.6 kmpl</td>\n",
       "      <td>1248 CC</td>\n",
       "      <td>74 bhp</td>\n",
       "      <td>200Nm@ 1750rpm</td>\n",
       "      <td>NaN</td>\n",
       "    </tr>\n",
       "    <tr>\n",
       "      <th>freq</th>\n",
       "      <td>15</td>\n",
       "      <td>NaN</td>\n",
       "      <td>NaN</td>\n",
       "      <td>NaN</td>\n",
       "      <td>534</td>\n",
       "      <td>837</td>\n",
       "      <td>877</td>\n",
       "      <td>623</td>\n",
       "      <td>23</td>\n",
       "      <td>116</td>\n",
       "      <td>43</td>\n",
       "      <td>57</td>\n",
       "      <td>NaN</td>\n",
       "    </tr>\n",
       "    <tr>\n",
       "      <th>mean</th>\n",
       "      <td>NaN</td>\n",
       "      <td>2013.681000</td>\n",
       "      <td>6.179010e+05</td>\n",
       "      <td>71393.341000</td>\n",
       "      <td>NaN</td>\n",
       "      <td>NaN</td>\n",
       "      <td>NaN</td>\n",
       "      <td>NaN</td>\n",
       "      <td>NaN</td>\n",
       "      <td>NaN</td>\n",
       "      <td>NaN</td>\n",
       "      <td>NaN</td>\n",
       "      <td>5.410805</td>\n",
       "    </tr>\n",
       "    <tr>\n",
       "      <th>std</th>\n",
       "      <td>NaN</td>\n",
       "      <td>4.012149</td>\n",
       "      <td>7.585539e+05</td>\n",
       "      <td>48486.218662</td>\n",
       "      <td>NaN</td>\n",
       "      <td>NaN</td>\n",
       "      <td>NaN</td>\n",
       "      <td>NaN</td>\n",
       "      <td>NaN</td>\n",
       "      <td>NaN</td>\n",
       "      <td>NaN</td>\n",
       "      <td>NaN</td>\n",
       "      <td>0.919985</td>\n",
       "    </tr>\n",
       "    <tr>\n",
       "      <th>min</th>\n",
       "      <td>NaN</td>\n",
       "      <td>1995.000000</td>\n",
       "      <td>3.100000e+04</td>\n",
       "      <td>1303.000000</td>\n",
       "      <td>NaN</td>\n",
       "      <td>NaN</td>\n",
       "      <td>NaN</td>\n",
       "      <td>NaN</td>\n",
       "      <td>NaN</td>\n",
       "      <td>NaN</td>\n",
       "      <td>NaN</td>\n",
       "      <td>NaN</td>\n",
       "      <td>4.000000</td>\n",
       "    </tr>\n",
       "    <tr>\n",
       "      <th>25%</th>\n",
       "      <td>NaN</td>\n",
       "      <td>2011.000000</td>\n",
       "      <td>2.500000e+05</td>\n",
       "      <td>37000.000000</td>\n",
       "      <td>NaN</td>\n",
       "      <td>NaN</td>\n",
       "      <td>NaN</td>\n",
       "      <td>NaN</td>\n",
       "      <td>NaN</td>\n",
       "      <td>NaN</td>\n",
       "      <td>NaN</td>\n",
       "      <td>NaN</td>\n",
       "      <td>5.000000</td>\n",
       "    </tr>\n",
       "    <tr>\n",
       "      <th>50%</th>\n",
       "      <td>NaN</td>\n",
       "      <td>2014.000000</td>\n",
       "      <td>4.349990e+05</td>\n",
       "      <td>61500.000000</td>\n",
       "      <td>NaN</td>\n",
       "      <td>NaN</td>\n",
       "      <td>NaN</td>\n",
       "      <td>NaN</td>\n",
       "      <td>NaN</td>\n",
       "      <td>NaN</td>\n",
       "      <td>NaN</td>\n",
       "      <td>NaN</td>\n",
       "      <td>5.000000</td>\n",
       "    </tr>\n",
       "    <tr>\n",
       "      <th>75%</th>\n",
       "      <td>NaN</td>\n",
       "      <td>2017.000000</td>\n",
       "      <td>6.700000e+05</td>\n",
       "      <td>100000.000000</td>\n",
       "      <td>NaN</td>\n",
       "      <td>NaN</td>\n",
       "      <td>NaN</td>\n",
       "      <td>NaN</td>\n",
       "      <td>NaN</td>\n",
       "      <td>NaN</td>\n",
       "      <td>NaN</td>\n",
       "      <td>NaN</td>\n",
       "      <td>5.000000</td>\n",
       "    </tr>\n",
       "    <tr>\n",
       "      <th>max</th>\n",
       "      <td>NaN</td>\n",
       "      <td>2020.000000</td>\n",
       "      <td>6.000000e+06</td>\n",
       "      <td>375000.000000</td>\n",
       "      <td>NaN</td>\n",
       "      <td>NaN</td>\n",
       "      <td>NaN</td>\n",
       "      <td>NaN</td>\n",
       "      <td>NaN</td>\n",
       "      <td>NaN</td>\n",
       "      <td>NaN</td>\n",
       "      <td>NaN</td>\n",
       "      <td>9.000000</td>\n",
       "    </tr>\n",
       "  </tbody>\n",
       "</table>\n",
       "</div>"
      ],
      "text/plain": [
       "                       name         year  selling_price      km_driven  \\\n",
       "count                  1000  1000.000000   1.000000e+03    1000.000000   \n",
       "unique                  621          NaN            NaN            NaN   \n",
       "top     Maruti Alto 800 LXI          NaN            NaN            NaN   \n",
       "freq                     15          NaN            NaN            NaN   \n",
       "mean                    NaN  2013.681000   6.179010e+05   71393.341000   \n",
       "std                     NaN     4.012149   7.585539e+05   48486.218662   \n",
       "min                     NaN  1995.000000   3.100000e+04    1303.000000   \n",
       "25%                     NaN  2011.000000   2.500000e+05   37000.000000   \n",
       "50%                     NaN  2014.000000   4.349990e+05   61500.000000   \n",
       "75%                     NaN  2017.000000   6.700000e+05  100000.000000   \n",
       "max                     NaN  2020.000000   6.000000e+06  375000.000000   \n",
       "\n",
       "          fuel seller_type transmission        owner    mileage   engine  \\\n",
       "count     1000        1000         1000         1000        981      981   \n",
       "unique       4           3            2            5        237       88   \n",
       "top     Diesel  Individual       Manual  First Owner  18.6 kmpl  1248 CC   \n",
       "freq       534         837          877          623         23      116   \n",
       "mean       NaN         NaN          NaN          NaN        NaN      NaN   \n",
       "std        NaN         NaN          NaN          NaN        NaN      NaN   \n",
       "min        NaN         NaN          NaN          NaN        NaN      NaN   \n",
       "25%        NaN         NaN          NaN          NaN        NaN      NaN   \n",
       "50%        NaN         NaN          NaN          NaN        NaN      NaN   \n",
       "75%        NaN         NaN          NaN          NaN        NaN      NaN   \n",
       "max        NaN         NaN          NaN          NaN        NaN      NaN   \n",
       "\n",
       "       max_power          torque       seats  \n",
       "count        981             981  981.000000  \n",
       "unique       182             226         NaN  \n",
       "top       74 bhp  200Nm@ 1750rpm         NaN  \n",
       "freq          43              57         NaN  \n",
       "mean         NaN             NaN    5.410805  \n",
       "std          NaN             NaN    0.919985  \n",
       "min          NaN             NaN    4.000000  \n",
       "25%          NaN             NaN    5.000000  \n",
       "50%          NaN             NaN    5.000000  \n",
       "75%          NaN             NaN    5.000000  \n",
       "max          NaN             NaN    9.000000  "
      ]
     },
     "execution_count": 523,
     "metadata": {},
     "output_type": "execute_result"
    }
   ],
   "source": [
    "df_test.describe(include = 'all')"
   ]
  },
  {
   "cell_type": "code",
   "execution_count": 524,
   "metadata": {},
   "outputs": [
    {
     "data": {
      "text/html": [
       "<div>\n",
       "<style scoped>\n",
       "    .dataframe tbody tr th:only-of-type {\n",
       "        vertical-align: middle;\n",
       "    }\n",
       "\n",
       "    .dataframe tbody tr th {\n",
       "        vertical-align: top;\n",
       "    }\n",
       "\n",
       "    .dataframe thead th {\n",
       "        text-align: right;\n",
       "    }\n",
       "</style>\n",
       "<table border=\"1\" class=\"dataframe\">\n",
       "  <thead>\n",
       "    <tr style=\"text-align: right;\">\n",
       "      <th></th>\n",
       "      <th>name</th>\n",
       "      <th>year</th>\n",
       "      <th>selling_price</th>\n",
       "      <th>km_driven</th>\n",
       "      <th>fuel</th>\n",
       "      <th>seller_type</th>\n",
       "      <th>transmission</th>\n",
       "      <th>owner</th>\n",
       "      <th>mileage</th>\n",
       "      <th>engine</th>\n",
       "      <th>max_power</th>\n",
       "      <th>torque</th>\n",
       "      <th>seats</th>\n",
       "    </tr>\n",
       "  </thead>\n",
       "  <tbody>\n",
       "    <tr>\n",
       "      <th>count</th>\n",
       "      <td>6999</td>\n",
       "      <td>6999.000000</td>\n",
       "      <td>6.999000e+03</td>\n",
       "      <td>6.999000e+03</td>\n",
       "      <td>6999</td>\n",
       "      <td>6999</td>\n",
       "      <td>6999</td>\n",
       "      <td>6999</td>\n",
       "      <td>6797</td>\n",
       "      <td>6797</td>\n",
       "      <td>6803</td>\n",
       "      <td>6796</td>\n",
       "      <td>6797.000000</td>\n",
       "    </tr>\n",
       "    <tr>\n",
       "      <th>unique</th>\n",
       "      <td>1924</td>\n",
       "      <td>NaN</td>\n",
       "      <td>NaN</td>\n",
       "      <td>NaN</td>\n",
       "      <td>4</td>\n",
       "      <td>3</td>\n",
       "      <td>2</td>\n",
       "      <td>5</td>\n",
       "      <td>386</td>\n",
       "      <td>120</td>\n",
       "      <td>316</td>\n",
       "      <td>419</td>\n",
       "      <td>NaN</td>\n",
       "    </tr>\n",
       "    <tr>\n",
       "      <th>top</th>\n",
       "      <td>Maruti Swift Dzire VDI</td>\n",
       "      <td>NaN</td>\n",
       "      <td>NaN</td>\n",
       "      <td>NaN</td>\n",
       "      <td>Diesel</td>\n",
       "      <td>Individual</td>\n",
       "      <td>Manual</td>\n",
       "      <td>First Owner</td>\n",
       "      <td>18.9 kmpl</td>\n",
       "      <td>1248 CC</td>\n",
       "      <td>74 bhp</td>\n",
       "      <td>190Nm@ 2000rpm</td>\n",
       "      <td>NaN</td>\n",
       "    </tr>\n",
       "    <tr>\n",
       "      <th>freq</th>\n",
       "      <td>116</td>\n",
       "      <td>NaN</td>\n",
       "      <td>NaN</td>\n",
       "      <td>NaN</td>\n",
       "      <td>3793</td>\n",
       "      <td>5826</td>\n",
       "      <td>6095</td>\n",
       "      <td>4587</td>\n",
       "      <td>197</td>\n",
       "      <td>885</td>\n",
       "      <td>330</td>\n",
       "      <td>468</td>\n",
       "      <td>NaN</td>\n",
       "    </tr>\n",
       "    <tr>\n",
       "      <th>mean</th>\n",
       "      <td>NaN</td>\n",
       "      <td>2013.818403</td>\n",
       "      <td>6.395152e+05</td>\n",
       "      <td>6.958462e+04</td>\n",
       "      <td>NaN</td>\n",
       "      <td>NaN</td>\n",
       "      <td>NaN</td>\n",
       "      <td>NaN</td>\n",
       "      <td>NaN</td>\n",
       "      <td>NaN</td>\n",
       "      <td>NaN</td>\n",
       "      <td>NaN</td>\n",
       "      <td>5.419008</td>\n",
       "    </tr>\n",
       "    <tr>\n",
       "      <th>std</th>\n",
       "      <td>NaN</td>\n",
       "      <td>4.053095</td>\n",
       "      <td>8.089419e+05</td>\n",
       "      <td>5.772400e+04</td>\n",
       "      <td>NaN</td>\n",
       "      <td>NaN</td>\n",
       "      <td>NaN</td>\n",
       "      <td>NaN</td>\n",
       "      <td>NaN</td>\n",
       "      <td>NaN</td>\n",
       "      <td>NaN</td>\n",
       "      <td>NaN</td>\n",
       "      <td>0.965767</td>\n",
       "    </tr>\n",
       "    <tr>\n",
       "      <th>min</th>\n",
       "      <td>NaN</td>\n",
       "      <td>1983.000000</td>\n",
       "      <td>2.999900e+04</td>\n",
       "      <td>1.000000e+00</td>\n",
       "      <td>NaN</td>\n",
       "      <td>NaN</td>\n",
       "      <td>NaN</td>\n",
       "      <td>NaN</td>\n",
       "      <td>NaN</td>\n",
       "      <td>NaN</td>\n",
       "      <td>NaN</td>\n",
       "      <td>NaN</td>\n",
       "      <td>2.000000</td>\n",
       "    </tr>\n",
       "    <tr>\n",
       "      <th>25%</th>\n",
       "      <td>NaN</td>\n",
       "      <td>2011.000000</td>\n",
       "      <td>2.549990e+05</td>\n",
       "      <td>3.500000e+04</td>\n",
       "      <td>NaN</td>\n",
       "      <td>NaN</td>\n",
       "      <td>NaN</td>\n",
       "      <td>NaN</td>\n",
       "      <td>NaN</td>\n",
       "      <td>NaN</td>\n",
       "      <td>NaN</td>\n",
       "      <td>NaN</td>\n",
       "      <td>5.000000</td>\n",
       "    </tr>\n",
       "    <tr>\n",
       "      <th>50%</th>\n",
       "      <td>NaN</td>\n",
       "      <td>2015.000000</td>\n",
       "      <td>4.500000e+05</td>\n",
       "      <td>6.000000e+04</td>\n",
       "      <td>NaN</td>\n",
       "      <td>NaN</td>\n",
       "      <td>NaN</td>\n",
       "      <td>NaN</td>\n",
       "      <td>NaN</td>\n",
       "      <td>NaN</td>\n",
       "      <td>NaN</td>\n",
       "      <td>NaN</td>\n",
       "      <td>5.000000</td>\n",
       "    </tr>\n",
       "    <tr>\n",
       "      <th>75%</th>\n",
       "      <td>NaN</td>\n",
       "      <td>2017.000000</td>\n",
       "      <td>6.750000e+05</td>\n",
       "      <td>9.700000e+04</td>\n",
       "      <td>NaN</td>\n",
       "      <td>NaN</td>\n",
       "      <td>NaN</td>\n",
       "      <td>NaN</td>\n",
       "      <td>NaN</td>\n",
       "      <td>NaN</td>\n",
       "      <td>NaN</td>\n",
       "      <td>NaN</td>\n",
       "      <td>5.000000</td>\n",
       "    </tr>\n",
       "    <tr>\n",
       "      <th>max</th>\n",
       "      <td>NaN</td>\n",
       "      <td>2020.000000</td>\n",
       "      <td>1.000000e+07</td>\n",
       "      <td>2.360457e+06</td>\n",
       "      <td>NaN</td>\n",
       "      <td>NaN</td>\n",
       "      <td>NaN</td>\n",
       "      <td>NaN</td>\n",
       "      <td>NaN</td>\n",
       "      <td>NaN</td>\n",
       "      <td>NaN</td>\n",
       "      <td>NaN</td>\n",
       "      <td>14.000000</td>\n",
       "    </tr>\n",
       "  </tbody>\n",
       "</table>\n",
       "</div>"
      ],
      "text/plain": [
       "                          name         year  selling_price     km_driven  \\\n",
       "count                     6999  6999.000000   6.999000e+03  6.999000e+03   \n",
       "unique                    1924          NaN            NaN           NaN   \n",
       "top     Maruti Swift Dzire VDI          NaN            NaN           NaN   \n",
       "freq                       116          NaN            NaN           NaN   \n",
       "mean                       NaN  2013.818403   6.395152e+05  6.958462e+04   \n",
       "std                        NaN     4.053095   8.089419e+05  5.772400e+04   \n",
       "min                        NaN  1983.000000   2.999900e+04  1.000000e+00   \n",
       "25%                        NaN  2011.000000   2.549990e+05  3.500000e+04   \n",
       "50%                        NaN  2015.000000   4.500000e+05  6.000000e+04   \n",
       "75%                        NaN  2017.000000   6.750000e+05  9.700000e+04   \n",
       "max                        NaN  2020.000000   1.000000e+07  2.360457e+06   \n",
       "\n",
       "          fuel seller_type transmission        owner    mileage   engine  \\\n",
       "count     6999        6999         6999         6999       6797     6797   \n",
       "unique       4           3            2            5        386      120   \n",
       "top     Diesel  Individual       Manual  First Owner  18.9 kmpl  1248 CC   \n",
       "freq      3793        5826         6095         4587        197      885   \n",
       "mean       NaN         NaN          NaN          NaN        NaN      NaN   \n",
       "std        NaN         NaN          NaN          NaN        NaN      NaN   \n",
       "min        NaN         NaN          NaN          NaN        NaN      NaN   \n",
       "25%        NaN         NaN          NaN          NaN        NaN      NaN   \n",
       "50%        NaN         NaN          NaN          NaN        NaN      NaN   \n",
       "75%        NaN         NaN          NaN          NaN        NaN      NaN   \n",
       "max        NaN         NaN          NaN          NaN        NaN      NaN   \n",
       "\n",
       "       max_power          torque        seats  \n",
       "count       6803            6796  6797.000000  \n",
       "unique       316             419          NaN  \n",
       "top       74 bhp  190Nm@ 2000rpm          NaN  \n",
       "freq         330             468          NaN  \n",
       "mean         NaN             NaN     5.419008  \n",
       "std          NaN             NaN     0.965767  \n",
       "min          NaN             NaN     2.000000  \n",
       "25%          NaN             NaN     5.000000  \n",
       "50%          NaN             NaN     5.000000  \n",
       "75%          NaN             NaN     5.000000  \n",
       "max          NaN             NaN    14.000000  "
      ]
     },
     "execution_count": 524,
     "metadata": {},
     "output_type": "execute_result"
    }
   ],
   "source": [
    "df_train.describe(include = 'all')"
   ]
  },
  {
   "cell_type": "markdown",
   "metadata": {
    "id": "1X5_FzDOhjuh"
   },
   "source": [
    "(0.15 балла) <font color='#9933CC'>Посмотрите, есть ли в датасете пропуски.</font>\n",
    "\n",
    "<font color='#FF6600'>Если есть, то в каких колонках?</font>"
   ]
  },
  {
   "cell_type": "code",
   "execution_count": 525,
   "metadata": {},
   "outputs": [
    {
     "data": {
      "text/plain": [
       "name             0.000000\n",
       "year             0.000000\n",
       "selling_price    0.000000\n",
       "km_driven        0.000000\n",
       "fuel             0.000000\n",
       "seller_type      0.000000\n",
       "transmission     0.000000\n",
       "owner            0.000000\n",
       "mileage          2.886127\n",
       "engine           2.886127\n",
       "max_power        2.800400\n",
       "torque           2.900414\n",
       "seats            2.886127\n",
       "dtype: float64"
      ]
     },
     "execution_count": 525,
     "metadata": {},
     "output_type": "execute_result"
    }
   ],
   "source": [
    "#Где не 0, там и пропуски\n",
    "df_train.isna().mean()*100"
   ]
  },
  {
   "cell_type": "code",
   "execution_count": 526,
   "metadata": {
    "id": "67KXN7Fj0Chz"
   },
   "outputs": [
    {
     "data": {
      "text/plain": [
       "name             0.0\n",
       "year             0.0\n",
       "selling_price    0.0\n",
       "km_driven        0.0\n",
       "fuel             0.0\n",
       "seller_type      0.0\n",
       "transmission     0.0\n",
       "owner            0.0\n",
       "mileage          1.9\n",
       "engine           1.9\n",
       "max_power        1.9\n",
       "torque           1.9\n",
       "seats            1.9\n",
       "dtype: float64"
      ]
     },
     "execution_count": 526,
     "metadata": {},
     "output_type": "execute_result"
    }
   ],
   "source": [
    "df_test.isna().mean()*100"
   ]
  },
  {
   "cell_type": "markdown",
   "metadata": {
    "id": "B9KR76Uzjvqa"
   },
   "source": [
    "(0.1 балла) <font color='#9933CC'>Посмотрите, есть ли в датасете объекты с одинаковым признаковым описанием</font> (целевую переменную следует исключить). Если есть, то сколько?"
   ]
  },
  {
   "cell_type": "code",
   "execution_count": 527,
   "metadata": {
    "id": "J3Y-5Vyijys-"
   },
   "outputs": [
    {
     "data": {
      "text/plain": [
       "False    5840\n",
       "True     1159\n",
       "dtype: int64"
      ]
     },
     "execution_count": 527,
     "metadata": {},
     "output_type": "execute_result"
    }
   ],
   "source": [
    "df_train.drop('selling_price', axis=1).duplicated().value_counts()"
   ]
  },
  {
   "cell_type": "markdown",
   "metadata": {
    "id": "UAwmwOwhlQmA"
   },
   "source": [
    "(0.15 балла) <font color='#9933CC'>Отобразите повторяющиеся автомобили</font>"
   ]
  },
  {
   "cell_type": "code",
   "execution_count": 528,
   "metadata": {},
   "outputs": [
    {
     "data": {
      "text/html": [
       "<div>\n",
       "<style scoped>\n",
       "    .dataframe tbody tr th:only-of-type {\n",
       "        vertical-align: middle;\n",
       "    }\n",
       "\n",
       "    .dataframe tbody tr th {\n",
       "        vertical-align: top;\n",
       "    }\n",
       "\n",
       "    .dataframe thead th {\n",
       "        text-align: right;\n",
       "    }\n",
       "</style>\n",
       "<table border=\"1\" class=\"dataframe\">\n",
       "  <thead>\n",
       "    <tr style=\"text-align: right;\">\n",
       "      <th></th>\n",
       "      <th>name</th>\n",
       "      <th>year</th>\n",
       "      <th>selling_price</th>\n",
       "      <th>km_driven</th>\n",
       "      <th>fuel</th>\n",
       "      <th>seller_type</th>\n",
       "      <th>transmission</th>\n",
       "      <th>owner</th>\n",
       "      <th>mileage</th>\n",
       "      <th>engine</th>\n",
       "      <th>max_power</th>\n",
       "      <th>torque</th>\n",
       "      <th>seats</th>\n",
       "    </tr>\n",
       "  </thead>\n",
       "  <tbody>\n",
       "    <tr>\n",
       "      <th>254</th>\n",
       "      <td>Hyundai Grand i10 Sportz</td>\n",
       "      <td>2017</td>\n",
       "      <td>450000</td>\n",
       "      <td>35000</td>\n",
       "      <td>Petrol</td>\n",
       "      <td>Individual</td>\n",
       "      <td>Manual</td>\n",
       "      <td>First Owner</td>\n",
       "      <td>18.9 kmpl</td>\n",
       "      <td>1197 CC</td>\n",
       "      <td>82 bhp</td>\n",
       "      <td>114Nm@ 4000rpm</td>\n",
       "      <td>5.0</td>\n",
       "    </tr>\n",
       "    <tr>\n",
       "      <th>258</th>\n",
       "      <td>Maruti Swift VXI</td>\n",
       "      <td>2012</td>\n",
       "      <td>330000</td>\n",
       "      <td>50000</td>\n",
       "      <td>Petrol</td>\n",
       "      <td>Individual</td>\n",
       "      <td>Manual</td>\n",
       "      <td>Second Owner</td>\n",
       "      <td>18.6 kmpl</td>\n",
       "      <td>1197 CC</td>\n",
       "      <td>85.8 bhp</td>\n",
       "      <td>114Nm@ 4000rpm</td>\n",
       "      <td>5.0</td>\n",
       "    </tr>\n",
       "    <tr>\n",
       "      <th>268</th>\n",
       "      <td>Maruti Swift Dzire VXI</td>\n",
       "      <td>2014</td>\n",
       "      <td>400000</td>\n",
       "      <td>70000</td>\n",
       "      <td>Petrol</td>\n",
       "      <td>Individual</td>\n",
       "      <td>Manual</td>\n",
       "      <td>Second Owner</td>\n",
       "      <td>19.1 kmpl</td>\n",
       "      <td>1197 CC</td>\n",
       "      <td>85.8 bhp</td>\n",
       "      <td>114Nm@ 4000rpm</td>\n",
       "      <td>5.0</td>\n",
       "    </tr>\n",
       "    <tr>\n",
       "      <th>324</th>\n",
       "      <td>Jaguar XE 2016-2019 2.0L Diesel Prestige</td>\n",
       "      <td>2017</td>\n",
       "      <td>2625000</td>\n",
       "      <td>9000</td>\n",
       "      <td>Diesel</td>\n",
       "      <td>Dealer</td>\n",
       "      <td>Automatic</td>\n",
       "      <td>First Owner</td>\n",
       "      <td>13.6 kmpl</td>\n",
       "      <td>1999 CC</td>\n",
       "      <td>177 bhp</td>\n",
       "      <td>430Nm@ 1750-2500rpm</td>\n",
       "      <td>5.0</td>\n",
       "    </tr>\n",
       "    <tr>\n",
       "      <th>325</th>\n",
       "      <td>Lexus ES 300h</td>\n",
       "      <td>2019</td>\n",
       "      <td>5150000</td>\n",
       "      <td>20000</td>\n",
       "      <td>Petrol</td>\n",
       "      <td>Dealer</td>\n",
       "      <td>Automatic</td>\n",
       "      <td>First Owner</td>\n",
       "      <td>22.37 kmpl</td>\n",
       "      <td>2487 CC</td>\n",
       "      <td>214.56 bhp</td>\n",
       "      <td>202Nm@ 3600-5200rpm</td>\n",
       "      <td>5.0</td>\n",
       "    </tr>\n",
       "    <tr>\n",
       "      <th>...</th>\n",
       "      <td>...</td>\n",
       "      <td>...</td>\n",
       "      <td>...</td>\n",
       "      <td>...</td>\n",
       "      <td>...</td>\n",
       "      <td>...</td>\n",
       "      <td>...</td>\n",
       "      <td>...</td>\n",
       "      <td>...</td>\n",
       "      <td>...</td>\n",
       "      <td>...</td>\n",
       "      <td>...</td>\n",
       "      <td>...</td>\n",
       "    </tr>\n",
       "    <tr>\n",
       "      <th>6947</th>\n",
       "      <td>Chevrolet Spark 1.0 LS</td>\n",
       "      <td>2010</td>\n",
       "      <td>140000</td>\n",
       "      <td>60000</td>\n",
       "      <td>Petrol</td>\n",
       "      <td>Individual</td>\n",
       "      <td>Manual</td>\n",
       "      <td>Second Owner</td>\n",
       "      <td>18.0 kmpl</td>\n",
       "      <td>995 CC</td>\n",
       "      <td>62 bhp</td>\n",
       "      <td>90.3Nm@ 4200rpm</td>\n",
       "      <td>5.0</td>\n",
       "    </tr>\n",
       "    <tr>\n",
       "      <th>6984</th>\n",
       "      <td>Ford Freestyle Titanium Plus Diesel BSIV</td>\n",
       "      <td>2018</td>\n",
       "      <td>746000</td>\n",
       "      <td>24000</td>\n",
       "      <td>Diesel</td>\n",
       "      <td>Individual</td>\n",
       "      <td>Manual</td>\n",
       "      <td>First Owner</td>\n",
       "      <td>24.4 kmpl</td>\n",
       "      <td>1498 CC</td>\n",
       "      <td>98.63 bhp</td>\n",
       "      <td>215Nm@ 1750-3000rpm</td>\n",
       "      <td>5.0</td>\n",
       "    </tr>\n",
       "    <tr>\n",
       "      <th>6989</th>\n",
       "      <td>Maruti Swift Dzire VDI</td>\n",
       "      <td>2015</td>\n",
       "      <td>625000</td>\n",
       "      <td>50000</td>\n",
       "      <td>Diesel</td>\n",
       "      <td>Individual</td>\n",
       "      <td>Manual</td>\n",
       "      <td>First Owner</td>\n",
       "      <td>26.59 kmpl</td>\n",
       "      <td>1248 CC</td>\n",
       "      <td>74 bhp</td>\n",
       "      <td>190Nm@ 2000rpm</td>\n",
       "      <td>5.0</td>\n",
       "    </tr>\n",
       "    <tr>\n",
       "      <th>6997</th>\n",
       "      <td>Tata Indigo CR4</td>\n",
       "      <td>2013</td>\n",
       "      <td>290000</td>\n",
       "      <td>25000</td>\n",
       "      <td>Diesel</td>\n",
       "      <td>Individual</td>\n",
       "      <td>Manual</td>\n",
       "      <td>First Owner</td>\n",
       "      <td>23.57 kmpl</td>\n",
       "      <td>1396 CC</td>\n",
       "      <td>70 bhp</td>\n",
       "      <td>140Nm@ 1800-3000rpm</td>\n",
       "      <td>5.0</td>\n",
       "    </tr>\n",
       "    <tr>\n",
       "      <th>6998</th>\n",
       "      <td>Tata Indigo CR4</td>\n",
       "      <td>2013</td>\n",
       "      <td>290000</td>\n",
       "      <td>25000</td>\n",
       "      <td>Diesel</td>\n",
       "      <td>Individual</td>\n",
       "      <td>Manual</td>\n",
       "      <td>First Owner</td>\n",
       "      <td>23.57 kmpl</td>\n",
       "      <td>1396 CC</td>\n",
       "      <td>70 bhp</td>\n",
       "      <td>140Nm@ 1800-3000rpm</td>\n",
       "      <td>5.0</td>\n",
       "    </tr>\n",
       "  </tbody>\n",
       "</table>\n",
       "<p>1159 rows × 13 columns</p>\n",
       "</div>"
      ],
      "text/plain": [
       "                                          name  year  selling_price  \\\n",
       "254                   Hyundai Grand i10 Sportz  2017         450000   \n",
       "258                           Maruti Swift VXI  2012         330000   \n",
       "268                     Maruti Swift Dzire VXI  2014         400000   \n",
       "324   Jaguar XE 2016-2019 2.0L Diesel Prestige  2017        2625000   \n",
       "325                              Lexus ES 300h  2019        5150000   \n",
       "...                                        ...   ...            ...   \n",
       "6947                    Chevrolet Spark 1.0 LS  2010         140000   \n",
       "6984  Ford Freestyle Titanium Plus Diesel BSIV  2018         746000   \n",
       "6989                    Maruti Swift Dzire VDI  2015         625000   \n",
       "6997                           Tata Indigo CR4  2013         290000   \n",
       "6998                           Tata Indigo CR4  2013         290000   \n",
       "\n",
       "      km_driven    fuel seller_type transmission         owner     mileage  \\\n",
       "254       35000  Petrol  Individual       Manual   First Owner   18.9 kmpl   \n",
       "258       50000  Petrol  Individual       Manual  Second Owner   18.6 kmpl   \n",
       "268       70000  Petrol  Individual       Manual  Second Owner   19.1 kmpl   \n",
       "324        9000  Diesel      Dealer    Automatic   First Owner   13.6 kmpl   \n",
       "325       20000  Petrol      Dealer    Automatic   First Owner  22.37 kmpl   \n",
       "...         ...     ...         ...          ...           ...         ...   \n",
       "6947      60000  Petrol  Individual       Manual  Second Owner   18.0 kmpl   \n",
       "6984      24000  Diesel  Individual       Manual   First Owner   24.4 kmpl   \n",
       "6989      50000  Diesel  Individual       Manual   First Owner  26.59 kmpl   \n",
       "6997      25000  Diesel  Individual       Manual   First Owner  23.57 kmpl   \n",
       "6998      25000  Diesel  Individual       Manual   First Owner  23.57 kmpl   \n",
       "\n",
       "       engine   max_power               torque  seats  \n",
       "254   1197 CC      82 bhp       114Nm@ 4000rpm    5.0  \n",
       "258   1197 CC    85.8 bhp       114Nm@ 4000rpm    5.0  \n",
       "268   1197 CC    85.8 bhp       114Nm@ 4000rpm    5.0  \n",
       "324   1999 CC     177 bhp  430Nm@ 1750-2500rpm    5.0  \n",
       "325   2487 CC  214.56 bhp  202Nm@ 3600-5200rpm    5.0  \n",
       "...       ...         ...                  ...    ...  \n",
       "6947   995 CC      62 bhp      90.3Nm@ 4200rpm    5.0  \n",
       "6984  1498 CC   98.63 bhp  215Nm@ 1750-3000rpm    5.0  \n",
       "6989  1248 CC      74 bhp       190Nm@ 2000rpm    5.0  \n",
       "6997  1396 CC      70 bhp  140Nm@ 1800-3000rpm    5.0  \n",
       "6998  1396 CC      70 bhp  140Nm@ 1800-3000rpm    5.0  \n",
       "\n",
       "[1159 rows x 13 columns]"
      ]
     },
     "execution_count": 528,
     "metadata": {},
     "output_type": "execute_result"
    }
   ],
   "source": [
    "df_train[df_train.drop('selling_price', axis=1).duplicated()]"
   ]
  },
  {
   "cell_type": "markdown",
   "metadata": {
    "id": "156jDf_Yj64l"
   },
   "source": [
    "(0.15 балла) <font color='#9933CC'>Удалите повторяющиеся строки</font>. Если при одинаковом признаковом описании цены на автомобили отличаются, то первую строку по этому автомобилю"
   ]
  },
  {
   "cell_type": "code",
   "execution_count": 529,
   "metadata": {
    "id": "sD0e3HZejmB-"
   },
   "outputs": [],
   "source": [
    "a = list(df_train.columns)\n",
    "a.remove('selling_price')\n",
    "df_train.drop_duplicates(subset=a, keep='first', inplace=True)\n",
    "del a"
   ]
  },
  {
   "cell_type": "code",
   "execution_count": 530,
   "metadata": {
    "id": "vF0yfzMOkEn8"
   },
   "outputs": [],
   "source": [
    "assert df_train.shape == (5840, 13)"
   ]
  },
  {
   "cell_type": "markdown",
   "metadata": {
    "id": "_SglCDNUkMTa"
   },
   "source": [
    "(0.1 балла) Чтоб все было по красоте, <font color='#9933CC'>обновите индексы строк таким образом, чтобы они шли от 0 без пропусков</font>"
   ]
  },
  {
   "cell_type": "code",
   "execution_count": 531,
   "metadata": {
    "id": "4RxpM81kkgsX"
   },
   "outputs": [],
   "source": [
    "df_train.reset_index(drop=True, inplace=True)"
   ]
  },
  {
   "cell_type": "markdown",
   "metadata": {
    "id": "CzYgx2wJzLxN"
   },
   "source": [
    "Вы могли заметить, что с признаками ``mileage, engine, max_power и torque`` всё не слава богу. Давайте починим.\n",
    "\n",
    "(0.25 балла) Задача такая: \n",
    "<font color='#9933CC'>\n",
    "* убрать единицы измерения для признаков ``mileage, engine, max_power``. \n",
    "* кастануть эти столбцы столбцы к ``float``.\n",
    "* удалить столбец ``torque``\n",
    "</font>\n",
    "\n",
    "> Все действия нужно производить над обоими датасетами\n",
    "\n",
    "---\n",
    "**Доп (0.25 балла):**\n",
    "* <font color='#9933CC'>Вместо удаления признак `torque` разделите на два: собственно `torque` и `max_torque_rpm`.</font> Учтите единицы измерения. Они разные ☹"
   ]
  },
  {
   "cell_type": "code",
   "execution_count": 532,
   "metadata": {},
   "outputs": [],
   "source": [
    "to_clean = ['mileage', 'engine', 'max_power']\n",
    "\n",
    "for i in to_clean:\n",
    "    df_train[i] = df_train[i].str.extract(r'(\\d)')\n",
    "    df_test[i] = df_test[i].str.extract(r'(\\d)')\n",
    "    df_train[i] = df_train[i].astype('float64')\n",
    "    df_test[i] = df_test[i].astype('float64')\n",
    "    \n",
    "df_train.drop(labels='torque', axis=1, inplace=True)\n",
    "df_test.drop(labels='torque', axis=1, inplace=True)"
   ]
  },
  {
   "cell_type": "markdown",
   "metadata": {
    "id": "nyEtp7jsRNms"
   },
   "source": [
    "(0.15 балла) <font color='#9933CC'>Заполните пропуски в столбцах медианами. Убедитесь, что после заполнения пропусков не осталось</font>\n",
    "\n",
    "> Обратите внимание, что, по уму, нужно посчитать медиану по трейну и этим средним заполнять пропуски в тесте. Так же делаем, если, например, стандартизируем признаки.\n",
    "\n"
   ]
  },
  {
   "cell_type": "code",
   "execution_count": 533,
   "metadata": {},
   "outputs": [],
   "source": [
    "df_train = df_train.fillna(df_train.median())\n",
    "df_test = df_test.fillna(df_train.median())"
   ]
  },
  {
   "cell_type": "markdown",
   "metadata": {
    "id": "RuKxfXCaXeHr"
   },
   "source": [
    "\n",
    "(0.1 балла) Теперь, когда не осталось пропусков, можно <font color='#9933CC'>преобразовать столбцы к более подходящим типам (``engnine`` и ``seats`` к int)\n",
    "</font>\n",
    "\n",
    "Ниже ответьте, <font color='#FF6600'>почему (хоть мы этого и не делаем) ``seats``, возможно, лучше сделать переменной категориальной, а не целочисленной.</font>"
   ]
  },
  {
   "cell_type": "markdown",
   "metadata": {
    "colab": {
     "base_uri": "https://localhost:8080/"
    },
    "id": "gVi9BPC-YLMi",
    "outputId": "aa889364-c725-4fd2-8551-4b5d2086ad4b"
   },
   "source": [
    "Логически нет прямой зависимости между тем, сколько мест в машине, и хуже она или лучше. Ведь мы не может сказать, что в целом маршрутка лучше, чем кабриолет"
   ]
  },
  {
   "cell_type": "code",
   "execution_count": 534,
   "metadata": {
    "id": "kYKWyjsLYQuz"
   },
   "outputs": [],
   "source": [
    "to_clean = ['engine', 'seats']\n",
    "\n",
    "for i in to_clean:\n",
    "    df_train[i] = df_train[i].astype('int')\n",
    "    df_test[i] = df_test[i].astype('int')"
   ]
  },
  {
   "cell_type": "code",
   "execution_count": 337,
   "metadata": {},
   "outputs": [],
   "source": [
    "#Я сохранял данные в другом порядке, не в котором идет код. Это нужно мне для того, чтобы аплоуд файл в фастапи\n",
    "#nans = df_train.drop(labels='selling_price', axis=1)\n",
    "#nans = \"../fill_nan.csv\"\n",
    "#df_test.to_csv(nans)  "
   ]
  },
  {
   "cell_type": "code",
   "execution_count": 338,
   "metadata": {},
   "outputs": [],
   "source": [
    "#for_fastapi = df_test.drop(labels='selling_price', axis=1)\n",
    "#my_csv = \"../my_csv.csv\"\n",
    "#for_fastapi.to_csv(my_csv)  "
   ]
  },
  {
   "cell_type": "markdown",
   "metadata": {
    "id": "OmV784QWZOpO"
   },
   "source": [
    "## Визуализации (1 балл + 0.5)"
   ]
  },
  {
   "cell_type": "markdown",
   "metadata": {
    "id": "6p2L60ngZueT"
   },
   "source": [
    "Визуализировать нам надо не так уж и много. Во-первых, хотелось бы, в принципе, увидеть как распределены значения признаков. Также хотелось бы понять, насколько признаки скоррелированы между собой и с целевой переменной. А ещё неплохо бы посмотреть, не оказалось ли так, что тестовые данные распределены иначе, чем трейн.\n",
    "\n",
    "Этим всем и предлагаем вам заняться."
   ]
  },
  {
   "cell_type": "markdown",
   "metadata": {
    "id": "IJpEKkFfaQoC"
   },
   "source": [
    "(0.25 балла) <font color='#9933CC'>Посторойте попарные распределения всех числовых признаков для трейна.</font>\n",
    "\n",
    "> ``sns.paiplot()`` позволяет сделать это в одну строчку"
   ]
  },
  {
   "cell_type": "code",
   "execution_count": 448,
   "metadata": {
    "id": "0car89hFaby1"
   },
   "outputs": [
    {
     "data": {
      "text/plain": [
       "<seaborn.axisgrid.PairGrid at 0x7fc806019d10>"
      ]
     },
     "execution_count": 448,
     "metadata": {},
     "output_type": "execute_result"
    },
    {
     "data": {
      "image/png": "[encoded data removed]",
      "text/plain": [
       "<Figure size 1260x1260 with 56 Axes>"
      ]
     },
     "metadata": {
      "needs_background": "light"
     },
     "output_type": "display_data"
    }
   ],
   "source": [
    "sns.pairplot(df_train)"
   ]
  },
  {
   "cell_type": "markdown",
   "metadata": {
    "id": "Vf4NE1-WboFG"
   },
   "source": [
    "Этот график не такой информативный, как можно было бы построить, беря признаки по отдельности. Но он позволяет сделать некоторые (возможно, далеко идущие) выводы. Впрочем, со многими из них (если не со всеми) вы бы справились умозрительно. Однако всегда приятно делать выводы, основываясь на данных.\n",
    "\n",
    "\n",
    "\n",
    "* <font color='#FF6600'> Что можно сказать о связи предикторов с целевой переменной?\n",
    "* А о корреляциях признаков? </font>"
   ]
  },
  {
   "cell_type": "markdown",
   "metadata": {},
   "source": [
    "Видно, что больше дорогих новых машин. Дорогие машины в основном без пробега.  А корреляции лучше комментировать по хитмапе :)"
   ]
  },
  {
   "cell_type": "markdown",
   "metadata": {
    "id": "m0Y8VOCceH_3"
   },
   "source": [
    "(0.25 балла) <font color='#9933CC'>Постройте pairplot по тестовым данным</font> и ответьте на вопрос <font color='#FF6600'>\"Похожими ли оказались совокупности при разделении на трейн и тест?\"</font>"
   ]
  },
  {
   "cell_type": "code",
   "execution_count": 370,
   "metadata": {
    "id": "NK9l6SrAeHK1"
   },
   "outputs": [
    {
     "data": {
      "text/plain": [
       "<seaborn.axisgrid.PairGrid at 0x7fc800eae090>"
      ]
     },
     "execution_count": 370,
     "metadata": {},
     "output_type": "execute_result"
    },
    {
     "data": {
      "image/png": "[encoded data removed]",
      "text/plain": [
       "<Figure size 1260x1260 with 56 Axes>"
      ]
     },
     "metadata": {
      "needs_background": "light"
     },
     "output_type": "display_data"
    }
   ],
   "source": [
    "sns.pairplot(df_test)"
   ]
  },
  {
   "cell_type": "markdown",
   "metadata": {},
   "source": [
    "Да, различаются. В тесте больше машин с пробегом, также график selling_price x year выглядит иначе"
   ]
  },
  {
   "cell_type": "markdown",
   "metadata": {
    "id": "Gnn7pDcrfEvN"
   },
   "source": [
    "(0.25 балла) <font color='#9933CC'>Для трейна давайте построим тепловую карту (heatmap из библиотеки seaborn) попарных корреляций числовых колонок</font>"
   ]
  },
  {
   "cell_type": "code",
   "execution_count": 371,
   "metadata": {},
   "outputs": [],
   "source": [
    "a = df_train.select_dtypes(include='number')"
   ]
  },
  {
   "cell_type": "code",
   "execution_count": 372,
   "metadata": {
    "id": "E99LVAN2fMVH"
   },
   "outputs": [
    {
     "data": {
      "image/png": "[encoded data removed]",
      "text/plain": [
       "<Figure size 432x288 with 2 Axes>"
      ]
     },
     "metadata": {
      "needs_background": "light"
     },
     "output_type": "display_data"
    }
   ],
   "source": [
    "sns.heatmap(a.corr(), annot=True)\n",
    "del a"
   ]
  },
  {
   "cell_type": "markdown",
   "metadata": {
    "id": "w24a_oXqf12H"
   },
   "source": [
    "Ответьте, пожалуйста, на вопросы: \n",
    "* <font color='#FF6600'>Какие 2 признака наименее скоррелированы между собой?</font>\n",
    "* <font color='#FF6600'>Между какими наблюдается довольно сильная положительная линейная зависимость?</font>\n",
    "* <font color='#FF6600'>Правильно ли, опираясь на данные, утверждать, что чем меньше год, тем, скорее всего, больше километров проехала машина к дате продажи.</font>"
   ]
  },
  {
   "cell_type": "markdown",
   "metadata": {},
   "source": [
    "1) Selling price x mileage (-0.011); year x seats(0.041)\n",
    "\n",
    "2) Зависимость, конечно, недостаточно сильная для удаления. Но есть связь между selling price x year (0.43)\n",
    "\n",
    "3) Мы видим отрицательную связь между годом и км. Это значит, что между ними есть связь, но мы не можем утверждать, что это 100% казуация"
   ]
  },
  {
   "cell_type": "markdown",
   "metadata": {
    "id": "DZXV-FI9lO5V"
   },
   "source": [
    "(0.25 балла) <font color='#9933CC'> Отобразите диаграммe рассеяния для наиболее скореллированной пары **признаков** (на трейне) </font>"
   ]
  },
  {
   "cell_type": "code",
   "execution_count": 374,
   "metadata": {},
   "outputs": [
    {
     "data": {
      "image/png": "[encoded data removed]",
      "text/plain": [
       "<Figure size 432x288 with 1 Axes>"
      ]
     },
     "metadata": {
      "needs_background": "light"
     },
     "output_type": "display_data"
    }
   ],
   "source": [
    "a = df_train.groupby('year')['selling_price'].agg('median')\n",
    "a.plot()\n",
    "del a"
   ]
  },
  {
   "cell_type": "code",
   "execution_count": 375,
   "metadata": {},
   "outputs": [
    {
     "data": {
      "text/plain": [
       "[<matplotlib.lines.Line2D at 0x7fc806757290>]"
      ]
     },
     "execution_count": 375,
     "metadata": {},
     "output_type": "execute_result"
    },
    {
     "data": {
      "image/png": "[encoded data removed]",
      "text/plain": [
       "<Figure size 432x288 with 1 Axes>"
      ]
     },
     "metadata": {
      "needs_background": "light"
     },
     "output_type": "display_data"
    }
   ],
   "source": [
    "plt.plot(df_train['selling_price'], df_train['year'], 'o', alpha=0.06)"
   ]
  },
  {
   "cell_type": "markdown",
   "metadata": {
    "id": "ru1In410pieq"
   },
   "source": [
    "### Дополнительные визуализации (бонус 0.5 балла)\n",
    "\n",
    "Если вам кажется, что мы не попросили вас нарисовать какие-то очень важные зависимости, нарисуйте их и поясните."
   ]
  },
  {
   "cell_type": "code",
   "execution_count": 535,
   "metadata": {
    "id": "HwlwJhDIp_2L"
   },
   "outputs": [
    {
     "data": {
      "text/plain": [
       "<AxesSubplot:>"
      ]
     },
     "execution_count": 535,
     "metadata": {},
     "output_type": "execute_result"
    },
    {
     "data": {
      "image/png": "[encoded data removed]",
      "text/plain": [
       "<Figure size 432x288 with 1 Axes>"
      ]
     },
     "metadata": {
      "needs_background": "light"
     },
     "output_type": "display_data"
    }
   ],
   "source": [
    "df_train['selling_price'].hist()"
   ]
  },
  {
   "cell_type": "code",
   "execution_count": 536,
   "metadata": {},
   "outputs": [
    {
     "data": {
      "text/plain": [
       "<AxesSubplot:>"
      ]
     },
     "execution_count": 536,
     "metadata": {},
     "output_type": "execute_result"
    },
    {
     "data": {
      "image/png": "[encoded data removed]",
      "text/plain": [
       "<Figure size 432x288 with 1 Axes>"
      ]
     },
     "metadata": {
      "needs_background": "light"
     },
     "output_type": "display_data"
    }
   ],
   "source": [
    "df_test['selling_price'].hist()"
   ]
  },
  {
   "cell_type": "code",
   "execution_count": 537,
   "metadata": {},
   "outputs": [
    {
     "data": {
      "text/plain": [
       "<AxesSubplot:title={'center':'selling_price'}, xlabel='seats'>"
      ]
     },
     "execution_count": 537,
     "metadata": {},
     "output_type": "execute_result"
    },
    {
     "data": {
      "image/png": "[encoded data removed]",
      "text/plain": [
       "<Figure size 432x288 with 1 Axes>"
      ]
     },
     "metadata": {
      "needs_background": "light"
     },
     "output_type": "display_data"
    }
   ],
   "source": [
    "df_train.boxplot(by ='seats', column =['selling_price'], grid = True)"
   ]
  },
  {
   "cell_type": "markdown",
   "metadata": {},
   "source": [
    "Мне было интересно посмотреть, какое распределение цены на тесте. В целом заметно, что сильно уходят хвосты вправо. Также похоже, что у нас много выбросов в данных. Займемся этим позже"
   ]
  },
  {
   "cell_type": "markdown",
   "metadata": {
    "id": "uS2CQ1LzrP_U"
   },
   "source": [
    "# Часть 2 (1.25 балла) | Модель только на вещественных признаках"
   ]
  },
  {
   "cell_type": "markdown",
   "metadata": {
    "id": "EPDwkjMPg3Lg"
   },
   "source": [
    "(0.05 балла) <font color='#9933CC'>В переменные ``y_train`` и ``y_test`` запишите значения целевых переменных. Столбцы ``selling_price`` из датафреймов необходимо удалить. Категориальные (все, кроме ``seats``) столбцы тоже.</font>"
   ]
  },
  {
   "cell_type": "code",
   "execution_count": 538,
   "metadata": {
    "id": "xKRmqiJ5rbSx"
   },
   "outputs": [],
   "source": [
    "y_train = df_train['selling_price']\n",
    "y_test = df_test['selling_price']\n",
    "X_train = (df_train.select_dtypes(include='number')).drop('selling_price', axis=1)\n",
    "X_test = (df_test.select_dtypes(include='number')).drop('selling_price', axis=1)"
   ]
  },
  {
   "cell_type": "code",
   "execution_count": 539,
   "metadata": {
    "id": "fyMyARKem5wl"
   },
   "outputs": [],
   "source": [
    "assert X_train.shape == (5840, 6)"
   ]
  },
  {
   "cell_type": "code",
   "execution_count": 540,
   "metadata": {
    "id": "-JepTZ36y-h-"
   },
   "outputs": [],
   "source": [
    "assert X_test.shape == (1000, 6)"
   ]
  },
  {
   "cell_type": "markdown",
   "metadata": {
    "id": "_kvtF4gXhwoI"
   },
   "source": [
    "(0.2 балла) <font color='#9933CC'>Обучите классическую линейную регрессию с дефолтными параметрами. Посчтитайте $R^2$ и MSE для трейна и для теста</font>\n",
    "\n",
    "**Замечание:** $R^2$ и MSE для трейна и для теста выводите везде, где требуется обучать модели, даже если в явном виде этого не просят. Иначе непонятно, как понять, насколько успешны наши эксперименты."
   ]
  },
  {
   "cell_type": "code",
   "execution_count": 342,
   "metadata": {},
   "outputs": [],
   "source": [
    "def show_metrics(model, true_train, true_test, x_train, x_test):\n",
    "    print(f'R2 for train {r2_score(true_train, model.predict(x_train))}')\n",
    "    print(f'MSE for train {MSE(true_train, model.predict(x_train))}')\n",
    "    print(f'R2 for test {r2_score(true_test, model.predict(x_test))}')\n",
    "    print(f'MSE for test {MSE(true_test, model.predict(x_test))}')"
   ]
  },
  {
   "cell_type": "code",
   "execution_count": 343,
   "metadata": {
    "id": "hVYXaeTgrb3d"
   },
   "outputs": [
    {
     "name": "stdout",
     "output_type": "stream",
     "text": [
      "R2 for train 0.3394286599730215\n",
      "MSE for train 189345071272.17557\n",
      "R2 for test 0.31628824642291353\n",
      "MSE for test 393017039781.7446\n"
     ]
    }
   ],
   "source": [
    "LR = LinearRegression()\n",
    "LR.fit(X_train, y_train)\n",
    "show_metrics(LR, y_train, y_test, X_train, X_test)"
   ]
  },
  {
   "cell_type": "markdown",
   "metadata": {
    "id": "HpQ8EG2Uk_Dn"
   },
   "source": [
    "Запомните правило:\n",
    "\n",
    "> Использую линейную модель -- стандартизирую фичи\n",
    "\n",
    "(0.25 балла) <font color='#9933CC'>Воспользуемся им</font>\n"
   ]
  },
  {
   "cell_type": "code",
   "execution_count": 344,
   "metadata": {
    "id": "o6FB80C2rciK"
   },
   "outputs": [],
   "source": [
    "column_names = X_train.columns.values\n",
    "scaler = StandardScaler()\n",
    "\n",
    "scaler.fit(X_train)\n",
    "X_train = pd.DataFrame(data = scaler.transform(X_train), columns = column_names)\n",
    "X_test = pd.DataFrame(data = scaler.transform(X_test), columns = column_names)"
   ]
  },
  {
   "cell_type": "code",
   "execution_count": 345,
   "metadata": {},
   "outputs": [
    {
     "name": "stdout",
     "output_type": "stream",
     "text": [
      "R2 for train 0.3394286599730201\n",
      "MSE for train 189345071272.176\n",
      "R2 for test 0.316288246422907\n",
      "MSE for test 393017039781.74835\n"
     ]
    }
   ],
   "source": [
    "LR = LinearRegression()\n",
    "LR.fit(X_train, y_train)\n",
    "show_metrics(LR, y_train, y_test, X_train, X_test)"
   ]
  },
  {
   "cell_type": "markdown",
   "metadata": {
    "id": "oQZi8LYVmiPv"
   },
   "source": [
    "Не очень результативно.\n",
    "\n",
    "Зато уже сейчас можем интерпретировать модель. <font color='#FF6600'>\"Какой признак оказался наиболее информативным в предсказании цены?\"</font>"
   ]
  },
  {
   "cell_type": "code",
   "execution_count": 351,
   "metadata": {},
   "outputs": [
    {
     "name": "stdout",
     "output_type": "stream",
     "text": [
      "['year' 'km_driven' 'mileage' 'engine' 'max_power' 'seats'] [ 230555.01514094  -34555.62312533  -15588.03876205 -104506.25393679\n",
      " -187769.95885147   11079.3972588 ]\n"
     ]
    }
   ],
   "source": [
    "X_train.columns\n",
    "print(X_train.columns.values, LR.coef_)"
   ]
  },
  {
   "cell_type": "markdown",
   "metadata": {},
   "source": [
    "Получается, что год, но это явно не очень хорошая модель, чтобы ее действительно интерпретировать"
   ]
  },
  {
   "cell_type": "markdown",
   "metadata": {
    "id": "My5nSSASntjA"
   },
   "source": [
    "(0.25 балла) <font color='#9933CC'>Теперь попробуем Lasso-регрессию.</font> Здесь и дальше обучайте модели на нормализованных признаках"
   ]
  },
  {
   "cell_type": "code",
   "execution_count": 352,
   "metadata": {
    "id": "yhR5eajPn0kl"
   },
   "outputs": [
    {
     "name": "stdout",
     "output_type": "stream",
     "text": [
      "R2 for train 0.339428659954494\n",
      "MSE for train 189345071277.4863\n",
      "R2 for test 0.3162873024206466\n",
      "MSE for test 393017582421.2042\n"
     ]
    }
   ],
   "source": [
    "from sklearn.linear_model import Lasso\n",
    "las = Lasso()\n",
    "\n",
    "las.fit(X_train, y_train)\n",
    "\n",
    "show_metrics(las, y_train, y_test, X_train, X_test)"
   ]
  },
  {
   "cell_type": "markdown",
   "metadata": {
    "id": "cIbnMp-So7CP"
   },
   "source": [
    "<font color='#FF6600'>Занулила ли L1-регуляризация с параметрами по умолчанию какие-нибудь веса? Почему же?</font>"
   ]
  },
  {
   "cell_type": "markdown",
   "metadata": {},
   "source": [
    "Автоматически не занулила. Но если ставить очень высокие коэфы, то занулит."
   ]
  },
  {
   "cell_type": "code",
   "execution_count": 353,
   "metadata": {
    "id": "EBJKIp6FouYw"
   },
   "outputs": [
    {
     "name": "stdout",
     "output_type": "stream",
     "text": [
      "[ 230554.12907149  -34554.53805266  -15587.10956335 -104505.29496461\n",
      " -187769.11657549   11078.7983534 ]\n"
     ]
    }
   ],
   "source": [
    "print(las.coef_)"
   ]
  },
  {
   "cell_type": "markdown",
   "metadata": {
    "id": "YYWLInilqQTE"
   },
   "source": [
    "(0.25 балла) <font color='#9933CC'>Перебором по сетке (c 10-ю фолдами) подберите оптимальные параметры для Lasso-регрессии</font>\n",
    "\n",
    "Вам пригодится фукнция [GridSearchCV](https://scikit-learn.org/stable/modules/generated/sklearn.model_selection.GridSearchCV.html)."
   ]
  },
  {
   "cell_type": "code",
   "execution_count": 354,
   "metadata": {
    "id": "mdGQ6CvApr_P"
   },
   "outputs": [
    {
     "data": {
      "text/plain": [
       "GridSearchCV(cv=10, estimator=Lasso(),\n",
       "             param_grid={'alpha': array([1.00000000e-03, 2.00119992e+00, 4.00139984e+00, ...,\n",
       "       1.99959996e+04, 1.99979998e+04, 2.00000000e+04])})"
      ]
     },
     "execution_count": 354,
     "metadata": {},
     "output_type": "execute_result"
    }
   ],
   "source": [
    "from sklearn.model_selection import GridSearchCV\n",
    "las = Lasso()\n",
    "hyper = {'alpha':np.linspace(0.001, 20000, 10000)}\n",
    "clf = GridSearchCV(las, hyper, cv=10)\n",
    "clf.fit(X_train, y_train)"
   ]
  },
  {
   "cell_type": "markdown",
   "metadata": {
    "id": "rueUl2cSvT5w"
   },
   "source": [
    "<font color='#FF6600'>Сколько грид-сёрчу пришлось обучать моделей?</font>"
   ]
  },
  {
   "cell_type": "markdown",
   "metadata": {},
   "source": [
    "Десять тысяч раз по 10"
   ]
  },
  {
   "cell_type": "markdown",
   "metadata": {
    "id": "0agvlV-tvEQN"
   },
   "source": [
    "<font color='#FF6600'>Какой коэффициент регуляризации у лучшей из перебранных моделей? Занулились ли какие-нибудь из весов при такой регуляризации?</font>"
   ]
  },
  {
   "cell_type": "code",
   "execution_count": 355,
   "metadata": {},
   "outputs": [
    {
     "name": "stdout",
     "output_type": "stream",
     "text": [
      "{'alpha': 17955.795681768177}\n"
     ]
    }
   ],
   "source": [
    "print(clf.best_params_)\n",
    "#{'alpha': 17955.795681768177}"
   ]
  },
  {
   "cell_type": "code",
   "execution_count": 356,
   "metadata": {
    "id": "joyYE2Q5shu5"
   },
   "outputs": [
    {
     "name": "stdout",
     "output_type": "stream",
     "text": [
      "R2 for train 0.33355351380433473\n",
      "MSE for train 191029113407.57767\n",
      "R2 for test 0.2966279871322638\n",
      "MSE for test 404318318233.2661\n"
     ]
    }
   ],
   "source": [
    "las = Lasso(alpha = 17955.79)\n",
    "las.fit(X_train, y_train)\n",
    "show_metrics(las, y_train, y_test, X_train, X_test)"
   ]
  },
  {
   "cell_type": "code",
   "execution_count": 357,
   "metadata": {},
   "outputs": [
    {
     "name": "stdout",
     "output_type": "stream",
     "text": [
      "[ 2.15178867e+05 -1.49361979e+04 -0.00000000e+00 -8.70820506e+04\n",
      " -1.72403838e+05  7.57176273e+01]\n"
     ]
    }
   ],
   "source": [
    "print(las.coef_)"
   ]
  },
  {
   "cell_type": "markdown",
   "metadata": {},
   "source": [
    "Да, с введением огромной альфы у нас действительно занулились некоторые параметры. Тем не менее, нам это не помогло, стало только хуже качество на тесте"
   ]
  },
  {
   "cell_type": "markdown",
   "metadata": {
    "id": "VdkkrDE4oeCP"
   },
   "source": [
    "(0.25 балла) <font color='#9933CC'>Перебором по сетке (c 10-ю фолдами) подберите оптимальные параметры для [ElasticNet](https://scikit-learn.org/stable/modules/generated/sklearn.linear_model.ElasticNet.html)-регрессии</font>"
   ]
  },
  {
   "cell_type": "code",
   "execution_count": 361,
   "metadata": {
    "id": "F3e5MGZMoeCR"
   },
   "outputs": [
    {
     "name": "stdout",
     "output_type": "stream",
     "text": [
      "R2 for train 0.3002006327807766\n",
      "MSE for train 200589327803.61865\n",
      "R2 for test 0.24191493996285107\n",
      "MSE for test 435768940112.2377\n"
     ]
    }
   ],
   "source": [
    "from sklearn.linear_model import ElasticNet\n",
    "elastic = ElasticNet()\n",
    "elastic.fit(X_train, y_train)\n",
    "show_metrics(elastic, y_train, y_test, X_train, X_test)"
   ]
  },
  {
   "cell_type": "code",
   "execution_count": 362,
   "metadata": {},
   "outputs": [
    {
     "data": {
      "text/plain": [
       "GridSearchCV(cv=10, estimator=ElasticNet(),\n",
       "             param_grid={'alpha': array([1.00000e-03, 1.00200e+00, 2.00300e+00, 3.00400e+00, 4.00500e+00,\n",
       "       5.00600e+00, 6.00700e+00, 7.00800e+00, 8.00900e+00, 9.01000e+00,\n",
       "       1.00110e+01, 1.10120e+01, 1.20130e+01, 1.30140e+01, 1.40150e+01,\n",
       "       1.50160e+01, 1.60170e+01, 1.70180e+01, 1.80190e+01, 1.90200e+01,\n",
       "       2.00210e+01, 2.10220e+01, 2.20230e+01, 2.302...\n",
       "       9.75976e+02, 9.76977e+02, 9.77978e+02, 9.78979e+02, 9.79980e+02,\n",
       "       9.80981e+02, 9.81982e+02, 9.82983e+02, 9.83984e+02, 9.84985e+02,\n",
       "       9.85986e+02, 9.86987e+02, 9.87988e+02, 9.88989e+02, 9.89990e+02,\n",
       "       9.90991e+02, 9.91992e+02, 9.92993e+02, 9.93994e+02, 9.94995e+02,\n",
       "       9.95996e+02, 9.96997e+02, 9.97998e+02, 9.98999e+02, 1.00000e+03]),\n",
       "                         'l1_ratio': array([0.01, 0.11, 0.21, 0.31, 0.41, 0.51, 0.61, 0.71, 0.81, 0.91])},\n",
       "             scoring='r2')"
      ]
     },
     "execution_count": 362,
     "metadata": {},
     "output_type": "execute_result"
    }
   ],
   "source": [
    "elastic = ElasticNet()\n",
    "hyper = { \"alpha\": np.linspace(0.001, 1000, 1000),\n",
    "        \"l1_ratio\": np.arange(0.01, 1.0, 0.1)}\n",
    "clf = GridSearchCV(elastic, hyper, cv=10, scoring='r2')\n",
    "clf.fit(X_train, y_train)"
   ]
  },
  {
   "cell_type": "markdown",
   "metadata": {
    "id": "zB0Nrbk6oeCS"
   },
   "source": [
    "<font color='#FF6600'>Какие гиперпараметры соответствуют лучшей из перебранных моделей?</font>"
   ]
  },
  {
   "cell_type": "code",
   "execution_count": 363,
   "metadata": {},
   "outputs": [
    {
     "name": "stdout",
     "output_type": "stream",
     "text": [
      "{'alpha': 1.002, 'l1_ratio': 0.91}\n"
     ]
    }
   ],
   "source": [
    "print(clf.best_params_)\n",
    "#{'alpha': 1.002, 'l1_ratio': 0.91}"
   ]
  },
  {
   "cell_type": "code",
   "execution_count": 364,
   "metadata": {
    "id": "gIzvY8bToeCS"
   },
   "outputs": [
    {
     "name": "stdout",
     "output_type": "stream",
     "text": [
      "R2 for train 0.33674651176329273\n",
      "MSE for train 190113877778.24182\n",
      "R2 for test 0.30106960441066133\n",
      "MSE for test 401765149788.42615\n"
     ]
    }
   ],
   "source": [
    "elastic = ElasticNet(alpha=1.002, l1_ratio=0.91)\n",
    "elastic.fit(X_train, y_train)\n",
    "show_metrics(elastic, y_train, y_test, X_train, X_test)"
   ]
  },
  {
   "cell_type": "markdown",
   "metadata": {
    "id": "5C3IX1-CwHO2"
   },
   "source": [
    "Предлагаем вам оставить вам попытки заметно улучшить качество модели регуляризацией и перейти к следующей части задания."
   ]
  },
  {
   "cell_type": "markdown",
   "metadata": {
    "id": "Y2y-_PCHrevF"
   },
   "source": [
    "# Часть 3 (0.75 балла) | Добавляем категориальные фичи\n",
    "\n"
   ]
  },
  {
   "cell_type": "markdown",
   "metadata": {
    "id": "frLASc5L8Tu5"
   },
   "source": [
    "(0 баллов) <font color='#9933CC'>Из ``df_train`` удалите столбцы с целевой переменной и названием автомобиля.</font>"
   ]
  },
  {
   "cell_type": "code",
   "execution_count": 628,
   "metadata": {},
   "outputs": [],
   "source": [
    "from sklearn.compose import make_column_transformer"
   ]
  },
  {
   "cell_type": "code",
   "execution_count": 629,
   "metadata": {},
   "outputs": [],
   "source": [
    "X_train_cat = df_train.copy()\n",
    "X_test_cat = df_test.copy()\n",
    "X_train_cat.drop(['selling_price', 'name'], axis=1, inplace=True)\n",
    "X_test_cat.drop(['selling_price', 'name'],  axis=1, inplace=True)"
   ]
  },
  {
   "cell_type": "code",
   "execution_count": 630,
   "metadata": {},
   "outputs": [],
   "source": [
    "scaler = StandardScaler()\n",
    "num_d = X_train_cat.select_dtypes(exclude=['object'])\n",
    "scaler.fit(X_train_cat[num_d.columns])\n",
    "\n",
    "X_train_cat[num_d.columns] = pd.DataFrame(data = scaler.transform(X_train_cat[num_d.columns]), columns = num_d.columns)\n",
    "X_test_cat[num_d.columns] = pd.DataFrame(data = scaler.transform(X_test_cat[num_d.columns]), columns = num_d.columns)\n",
    "\n",
    "X_test_cat2 = X_test_cat.copy()\n",
    "X_train_cat2 =  X_train_cat.copy()"
   ]
  },
  {
   "cell_type": "code",
   "execution_count": 631,
   "metadata": {
    "id": "SqDhrd6Q8k-S"
   },
   "outputs": [],
   "source": [
    "assert X_train_cat.shape == (5840, 10)"
   ]
  },
  {
   "cell_type": "markdown",
   "metadata": {
    "id": "wYxtiDa_81AL"
   },
   "source": [
    "(0.5 балла) <font color='#9933CC'>Закодируйте категориалльные фичи и ``seats`` методом OneHot-кодирования</font>\n",
    "\n",
    "> Обратите внимание, что во избежание мультиколлинеарности следует избавиться от одного из полученных столбцов при кодировании каждого признака методом OneHot. "
   ]
  },
  {
   "cell_type": "code",
   "execution_count": 544,
   "metadata": {},
   "outputs": [],
   "source": [
    "cat_cols = (X_train_cat.select_dtypes(include=['object']).columns.values).copy()"
   ]
  },
  {
   "cell_type": "code",
   "execution_count": 545,
   "metadata": {},
   "outputs": [],
   "source": [
    "encoder = OneHotEncoder(drop=None)\n",
    "\n",
    "encoder_df = pd.DataFrame(encoder.fit_transform(X_train_cat[cat_cols]).toarray())\n",
    "encoder_df_2 = pd.DataFrame(encoder.transform(X_test_cat[cat_cols]).toarray())\n",
    "\n",
    "X_train_cat = X_train_cat.join(encoder_df)\n",
    "X_test_cat = X_test_cat.join(encoder_df_2)\n",
    "\n",
    "X_train_cat.drop(cat_cols, axis=1, inplace=True)\n",
    "X_test_cat.drop(cat_cols, axis=1, inplace=True)"
   ]
  },
  {
   "cell_type": "code",
   "execution_count": 546,
   "metadata": {},
   "outputs": [],
   "source": [
    "X_train_cat.rename(columns = {0:'0', 1:'1', 2:'2', 3:'3', 4:'4', 5:'5', 6:'6', 7:'7', 8:'8',\n",
    "                             9:'9', 10:'10', 11:'11', 12:'12', 13:'13'}, inplace = True)\n",
    "X_test_cat.rename(columns = {0:'0', 1:'1', 2:'2', 3:'3', 4:'4', 5:'5', 6:'6', 7:'7', 8:'8',\n",
    "                             9:'9', 10:'10', 11:'11', 12:'12', 13:'13'}, inplace = True)"
   ]
  },
  {
   "cell_type": "markdown",
   "metadata": {
    "id": "b8fI5dQT-Fvx"
   },
   "source": [
    "(0.25 балла) <font color='#9933CC'>Переберите параметр регуляризации `alpha` для гребневой (ridge) регрессии с помощью класса `GridSearchCV`.</font> В качестве параметров при объявлении GridSearchCV кроме модели укажите метрику качества $R^2$. Кроссвалидируйтесь по 10-ти фолдам.\n",
    "\n",
    "<font color='#FF6600'>Удалось ли улучшить качество предсказаний?</font>"
   ]
  },
  {
   "cell_type": "code",
   "execution_count": 547,
   "metadata": {
    "id": "SLXCtme53Oup"
   },
   "outputs": [
    {
     "name": "stdout",
     "output_type": "stream",
     "text": [
      "R2 for train 0.5066512412031224\n",
      "MSE for train 141412668452.46277\n",
      "R2 for test 0.4825207236985465\n",
      "MSE for test 297461864969.192\n"
     ]
    }
   ],
   "source": [
    "ridge =Ridge()\n",
    "ridge.fit(X_train_cat, y_train)\n",
    "show_metrics(ridge, y_train, y_test, X_train_cat, X_test_cat)"
   ]
  },
  {
   "cell_type": "code",
   "execution_count": 549,
   "metadata": {},
   "outputs": [
    {
     "data": {
      "text/plain": [
       "GridSearchCV(cv=10, estimator=Ridge(),\n",
       "             param_grid={'alpha': array([1.00000e-03, 1.00200e+00, 2.00300e+00, 3.00400e+00, 4.00500e+00,\n",
       "       5.00600e+00, 6.00700e+00, 7.00800e+00, 8.00900e+00, 9.01000e+00,\n",
       "       1.00110e+01, 1.10120e+01, 1.20130e+01, 1.30140e+01, 1.40150e+01,\n",
       "       1.50160e+01, 1.60170e+01, 1.70180e+01, 1.80190e+01, 1.90200e+01,\n",
       "       2.00210e+01, 2.10220e+01, 2.20230e+01, 2.30240e+0...\n",
       "       9.70971e+02, 9.71972e+02, 9.72973e+02, 9.73974e+02, 9.74975e+02,\n",
       "       9.75976e+02, 9.76977e+02, 9.77978e+02, 9.78979e+02, 9.79980e+02,\n",
       "       9.80981e+02, 9.81982e+02, 9.82983e+02, 9.83984e+02, 9.84985e+02,\n",
       "       9.85986e+02, 9.86987e+02, 9.87988e+02, 9.88989e+02, 9.89990e+02,\n",
       "       9.90991e+02, 9.91992e+02, 9.92993e+02, 9.93994e+02, 9.94995e+02,\n",
       "       9.95996e+02, 9.96997e+02, 9.97998e+02, 9.98999e+02, 1.00000e+03])},\n",
       "             scoring='r2')"
      ]
     },
     "execution_count": 549,
     "metadata": {},
     "output_type": "execute_result"
    }
   ],
   "source": [
    "hyper = { \"alpha\": np.linspace(0.001, 1000, 1000)}\n",
    "clf = GridSearchCV(ridge, hyper, cv=10, scoring='r2')\n",
    "clf.fit(X_train_cat, y_train)"
   ]
  },
  {
   "cell_type": "code",
   "execution_count": 552,
   "metadata": {},
   "outputs": [
    {
     "name": "stdout",
     "output_type": "stream",
     "text": [
      "{'alpha': 152.15300000000002}\n"
     ]
    }
   ],
   "source": [
    "print(clf.best_params_)\n",
    "#{'alpha': 152.15300000000002}"
   ]
  },
  {
   "cell_type": "code",
   "execution_count": 553,
   "metadata": {},
   "outputs": [
    {
     "name": "stdout",
     "output_type": "stream",
     "text": [
      "R2 for train 0.4766984140758169\n",
      "MSE for train 149998297049.35464\n",
      "R2 for test 0.4859238514459062\n",
      "MSE for test 295505649961.52405\n"
     ]
    }
   ],
   "source": [
    "ridge = Ridge(alpha=152.153)\n",
    "ridge.fit(X_train_cat, y_train)\n",
    "show_metrics(ridge, y_train, y_test, X_train_cat, X_test_cat)"
   ]
  },
  {
   "cell_type": "markdown",
   "metadata": {},
   "source": [
    "Да! После добавления категор фич жить сразу стало лучшее и веселее. А после тюнинга альфы и с переобучением поборолись немного даже"
   ]
  },
  {
   "cell_type": "markdown",
   "metadata": {
    "id": "T0OlrsmArp2I"
   },
   "source": [
    "# Часть 4 - бонусная (2 балла) | Feature Engineering "
   ]
  },
  {
   "cell_type": "markdown",
   "metadata": {
    "id": "NXo9jvHPEYtN"
   },
   "source": [
    "В этой части домашнего задания вам предлагается проявить свою креативность для улучшения прогноза модели. Любые другие модели, кроме различных форм линейной (или полиномиальной) регресси, использовать запрещается. А значит, придется работать с признаками\n",
    "\n",
    "**Что можно попробовать сделать?** (каждый пункт по 0.4 балла, но не больше 2-х баллов в сумме)\n",
    "\n",
    "1.   *Сгенерировать новые признаки на основе уже существующих:*\n",
    "    * посчитать произведения // частные признаков (кажется, что посчитать число \"лошадей\" на литр объема может быть полезно);\n",
    "    * имеет смысл обратить внимание на визуализации в части с EDA (к примеру, зависимость цены от года выглядит квадратичной, а не линейной; значит, квадрат года нам, скорее всего, принесет больше пользы)\n",
    "\n",
    "2.   *Добыть новые признаки:*\n",
    "    * имеем название автомобиля, которое никак не используем (можно спарсить инфу о классе автомобиля или каких-то специфических опциях)\n",
    "    * можно добавить пороговые признаки вроде \"владелец третий или больше\" и объединить признаки в некоторые осмысленные правила, например \"первый или второй владелец и продавец официальный дилер\" (подбирать пороги удобно по диаграммам рассеяния)\n",
    "\n",
    "3.   *Поработать с уже имеющимися:*\n",
    "    * далеко не факт, что заполнить пропуск медианой было лучшей идеей (как минимум, можно добавить dummy-столбец для модели, сигнализирующий, что раньше на месте медианы был пропуск -- там где он был, конечно); попробуйте другие способы филлинга;\n",
    "    * мы не анализировали, есть ли в данных выбросы => никак выбросы не обрабатывали; наиболее простым и, тем не менее, довольно полезным вариантом нахождения выбросов могут послужить boxplot'ы для каждого столбца; что делать с выбросами думайте сами :) -- вариантов довольно много\n",
    "    * мы толком не смотрели на таргет сам по себе; в нем тоже могут быть неожиданности -- стоит хотя бы проверить\n",
    "    * можно заметить, что некоторые признаки распределены совсем не нормально; возможно их стоит отлогарифмировать\n",
    "\n",
    "И так далее...\n",
    "\n",
    "Feel Free to Try!"
   ]
  },
  {
   "cell_type": "code",
   "execution_count": 554,
   "metadata": {
    "id": "keijjrKbr3Ne"
   },
   "outputs": [],
   "source": [
    "X_train_new, X_test_new = X_train_cat.copy(), X_test_cat.copy()"
   ]
  },
  {
   "cell_type": "markdown",
   "metadata": {},
   "source": [
    "Добавим квадрат года"
   ]
  },
  {
   "cell_type": "code",
   "execution_count": 555,
   "metadata": {},
   "outputs": [],
   "source": [
    "X_train_new['year_sq'] = X_train_new['year']* X_train_new['year']\n",
    "X_test_new['year_sq'] = X_test_new['year']* X_test_new['year']"
   ]
  },
  {
   "cell_type": "code",
   "execution_count": 556,
   "metadata": {},
   "outputs": [
    {
     "name": "stdout",
     "output_type": "stream",
     "text": [
      "R2 for train 0.5249579728390832\n",
      "MSE for train 136165257315.56718\n",
      "R2 for test 0.4965964425812829\n",
      "MSE for test 289370739814.25586\n"
     ]
    }
   ],
   "source": [
    "ridge =Ridge()\n",
    "ridge.fit(X_train_new, y_train)\n",
    "show_metrics(ridge, y_train, y_test, X_train_new, X_test_new)"
   ]
  },
  {
   "cell_type": "markdown",
   "metadata": {},
   "source": [
    "Посчитаем лошадей/объем"
   ]
  },
  {
   "cell_type": "code",
   "execution_count": 557,
   "metadata": {},
   "outputs": [],
   "source": [
    "X_train_new['power/mileage'] = X_train_new['max_power']/ X_train_new['mileage']\n",
    "X_test_new['power/mileage'] = X_test_new['max_power']/X_test_new['mileage']"
   ]
  },
  {
   "cell_type": "code",
   "execution_count": 558,
   "metadata": {},
   "outputs": [
    {
     "name": "stdout",
     "output_type": "stream",
     "text": [
      "R2 for train 0.5282321957082206\n",
      "MSE for train 135226739512.94426\n",
      "R2 for test 0.49917269835047495\n",
      "MSE for test 287889834431.496\n"
     ]
    }
   ],
   "source": [
    "ridge =Ridge()\n",
    "ridge.fit(X_train_new, y_train)\n",
    "show_metrics(ridge, y_train, y_test, X_train_new, X_test_new)"
   ]
  },
  {
   "cell_type": "code",
   "execution_count": 559,
   "metadata": {},
   "outputs": [],
   "source": [
    "from scipy import stats"
   ]
  },
  {
   "cell_type": "code",
   "execution_count": 560,
   "metadata": {},
   "outputs": [],
   "source": [
    "my_col = ['year', 'km_driven', 'mileage', 'engine', 'max_power', 'seats','year_sq', 'power/mileage', 'selling_price']\n",
    "X_train_Z = X_train_new.join(y_train)\n",
    "X_train_Z = X_train_Z[(np.abs(stats.zscore(X_train_Z[my_col])) < 3).all(axis=1)]\n",
    "y_train_Z = X_train_Z['selling_price'].copy()\n",
    "X_train_Z.drop(['selling_price'], axis=1, inplace=True)"
   ]
  },
  {
   "cell_type": "code",
   "execution_count": 561,
   "metadata": {},
   "outputs": [
    {
     "name": "stdout",
     "output_type": "stream",
     "text": [
      "R2 for train 0.6654598219723493\n",
      "MSE for train 35875374492.299324\n",
      "R2 for test 0.37826426544866576\n",
      "MSE for test 357391454280.9507\n"
     ]
    }
   ],
   "source": [
    "ridge =Ridge()\n",
    "ridge.fit(X_train_Z, y_train_Z)\n",
    "show_metrics(ridge, y_train_Z, y_test, X_train_Z, X_test_new)"
   ]
  },
  {
   "cell_type": "code",
   "execution_count": 563,
   "metadata": {},
   "outputs": [
    {
     "data": {
      "text/plain": [
       "GridSearchCV(cv=10, estimator=Ridge(),\n",
       "             param_grid={'alpha': array([1.00000000e-03, 2.00300100e+00, 4.00500200e+00, 6.00700300e+00,\n",
       "       8.00900400e+00, 1.00110050e+01, 1.20130060e+01, 1.40150070e+01,\n",
       "       1.60170080e+01, 1.80190090e+01, 2.00210100e+01, 2.20230110e+01,\n",
       "       2.40250120e+01, 2.60270130e+01, 2.80290140e+01, 3.00310150e+01,\n",
       "       3.20330160e+01, 3.40350170e+01, 3.60370180e+01, 3...\n",
       "       1.95395398e+03, 1.95595598e+03, 1.95795798e+03, 1.95995998e+03,\n",
       "       1.96196198e+03, 1.96396398e+03, 1.96596598e+03, 1.96796798e+03,\n",
       "       1.96996998e+03, 1.97197199e+03, 1.97397399e+03, 1.97597599e+03,\n",
       "       1.97797799e+03, 1.97997999e+03, 1.98198199e+03, 1.98398399e+03,\n",
       "       1.98598599e+03, 1.98798799e+03, 1.98998999e+03, 1.99199200e+03,\n",
       "       1.99399400e+03, 1.99599600e+03, 1.99799800e+03, 2.00000000e+03])},\n",
       "             scoring='r2')"
      ]
     },
     "execution_count": 563,
     "metadata": {},
     "output_type": "execute_result"
    }
   ],
   "source": [
    "hyper = { \"alpha\": np.linspace(0.001, 2000, 1000)}\n",
    "clf = GridSearchCV(ridge, hyper, cv=10, scoring='r2')\n",
    "clf.fit(X_train_Z, y_train_Z)"
   ]
  },
  {
   "cell_type": "code",
   "execution_count": 565,
   "metadata": {},
   "outputs": [
    {
     "name": "stdout",
     "output_type": "stream",
     "text": [
      "{'alpha': 20.021010010010013}\n"
     ]
    }
   ],
   "source": [
    "print(clf.best_params_)"
   ]
  },
  {
   "cell_type": "code",
   "execution_count": 566,
   "metadata": {},
   "outputs": [
    {
     "name": "stdout",
     "output_type": "stream",
     "text": [
      "R2 for train 0.6646577341072984\n",
      "MSE for train 35961388682.59503\n",
      "R2 for test 0.37610961285185385\n",
      "MSE for test 358630010121.07874\n"
     ]
    }
   ],
   "source": [
    "ridge = Ridge(alpha=20)\n",
    "ridge.fit(X_train_Z, y_train_Z)\n",
    "show_metrics(ridge, y_train_Z, y_test, X_train_Z, X_test_new)"
   ]
  },
  {
   "cell_type": "markdown",
   "metadata": {},
   "source": [
    "Несмотря на то, что у нас стали хуже метрики качества для регрессии после того, как выбросы были убраны, бизнесовая метрика выросла!Если это то, что нужно заказчику, то даже хорошо"
   ]
  },
  {
   "cell_type": "code",
   "execution_count": 615,
   "metadata": {},
   "outputs": [
    {
     "data": {
      "text/plain": [
       "array(['First Owner', 'Second Owner', 'Third Owner',\n",
       "       'Fourth & Above Owner', 'Test Drive Car'], dtype=object)"
      ]
     },
     "execution_count": 615,
     "metadata": {},
     "output_type": "execute_result"
    }
   ],
   "source": [
    "X_train_cat2['owner'].unique()"
   ]
  },
  {
   "cell_type": "code",
   "execution_count": 632,
   "metadata": {},
   "outputs": [],
   "source": [
    "rating = []\n",
    "for row in X_train_cat2['owner']:\n",
    "    if row == 'Test Drive Car':\n",
    "        rating.append(0)\n",
    "    elif row == ('First Owner'):\n",
    "        rating.append(1)\n",
    "    elif row == (('First Owner') or ('Third Owner')):\n",
    "        rating.append(2)\n",
    "    else: \n",
    "        rating.append(3)\n",
    "        \n",
    "X_train_cat2['owner2'] = rating\n",
    "\n",
    "rating = []\n",
    "for row in X_test_cat2['owner']:\n",
    "    if row == 'Test Drive Car':\n",
    "        rating.append(0)\n",
    "    elif row == ('First Owner'):\n",
    "        rating.append(1)\n",
    "    elif row == (('First Owner') or ('Third Owner')):\n",
    "        rating.append(2)\n",
    "    else: \n",
    "        rating.append(3)\n",
    "        \n",
    "X_test_cat2['owner2'] = rating"
   ]
  },
  {
   "cell_type": "markdown",
   "metadata": {},
   "source": [
    "Давайте попробуем закодировать доп информацию о продавцах машин"
   ]
  },
  {
   "cell_type": "code",
   "execution_count": 633,
   "metadata": {},
   "outputs": [],
   "source": [
    "encoder = OneHotEncoder(drop=None)\n",
    "\n",
    "encoder_df = pd.DataFrame(encoder.fit_transform(X_train_cat2[cat_cols]).toarray())\n",
    "encoder_df_2 = pd.DataFrame(encoder.transform(X_test_cat2[cat_cols]).toarray())\n",
    "\n",
    "X_train_cat2 = X_train_cat2.join(encoder_df)\n",
    "X_test_cat2 = X_test_cat2.join(encoder_df_2)\n",
    "\n",
    "X_train_cat2.drop(cat_cols, axis=1, inplace=True)\n",
    "X_test_cat2.drop(cat_cols, axis=1, inplace=True)\n",
    "\n",
    "X_train_cat2.rename(columns = {0:'0', 1:'1', 2:'2', 3:'3', 4:'4', 5:'5', 6:'6', 7:'7', 8:'8',\n",
    "                             9:'9', 10:'10', 11:'11', 12:'12', 13:'13'}, inplace = True)\n",
    "X_test_cat2.rename(columns = {0:'0', 1:'1', 2:'2', 3:'3', 4:'4', 5:'5', 6:'6', 7:'7', 8:'8',\n",
    "                             9:'9', 10:'10', 11:'11', 12:'12', 13:'13'}, inplace = True)\n",
    "\n",
    "X_train_cat2['year_sq'] = X_train_cat2['year']* X_train_cat2['year']\n",
    "X_test_cat2['year_sq'] = X_test_cat2['year']* X_test_cat2['year']\n",
    "\n",
    "X_train_cat2['power/mileage'] = X_train_cat2['max_power']/ X_train_cat2['mileage']\n",
    "X_test_cat2['power/mileage'] = X_test_cat2['max_power']/X_test_cat2['mileage']"
   ]
  },
  {
   "cell_type": "code",
   "execution_count": 634,
   "metadata": {},
   "outputs": [
    {
     "name": "stdout",
     "output_type": "stream",
     "text": [
      "R2 for train 0.5288497790700071\n",
      "MSE for train 135049716444.32431\n",
      "R2 for test 0.4956798163485431\n",
      "MSE for test 289897642747.682\n"
     ]
    }
   ],
   "source": [
    "ridge = Ridge()\n",
    "ridge.fit(X_train_cat2, y_train)\n",
    "show_metrics(ridge, y_train, y_test, X_train_cat2, X_test_cat2)"
   ]
  },
  {
   "cell_type": "markdown",
   "metadata": {},
   "source": [
    "Лучше не стало, но попытка была"
   ]
  },
  {
   "cell_type": "markdown",
   "metadata": {
    "id": "mw6LOYJTL2x1"
   },
   "source": [
    "# Часть Бизнесовая (0.5 балла)"
   ]
  },
  {
   "cell_type": "markdown",
   "metadata": {
    "id": "0QpHAfbcMRfu"
   },
   "source": [
    "Заказчик просил вас посчитать кастомную метрику -- среди всех предсказанных цен на авто посчитать долю предиктов, отличающихся от реальных цен на эти авто не более чем на 10% (в одну или другую сторону)\n",
    "\n",
    "<font color='#9933CC'>Сделайте это самостоятельно для лучшей из своих моделей</font>"
   ]
  },
  {
   "cell_type": "markdown",
   "metadata": {},
   "source": [
    "Тюнинг сильно не помогает, будем оценивать по предобработке"
   ]
  },
  {
   "cell_type": "code",
   "execution_count": 643,
   "metadata": {
    "id": "YrcaGhO7MnMR"
   },
   "outputs": [],
   "source": [
    "def business_metrics(y_true, y_pred):\n",
    "    score = 0\n",
    "    for i in range(len(y_true)):\n",
    "        diff = abs(y_pred[i] - y_true[i])\n",
    "        if diff <= (y_true[i] * 0.1):\n",
    "            score += 1\n",
    "    return (score/len(y_true))*100 "
   ]
  },
  {
   "cell_type": "code",
   "execution_count": 644,
   "metadata": {},
   "outputs": [
    {
     "name": "stdout",
     "output_type": "stream",
     "text": [
      "The business metric is 18.5%\n"
     ]
    }
   ],
   "source": [
    "ridge.fit(X_train_Z, y_train_Z)\n",
    "preds = ridge.predict(X_test_new)\n",
    "print(f'The business metric is {business_metrics(y_test, preds)}%')"
   ]
  },
  {
   "cell_type": "code",
   "execution_count": 645,
   "metadata": {},
   "outputs": [],
   "source": [
    "ridge.fit(X_train_new, y_train)\n",
    "preds = ridge.predict(X_test_new)"
   ]
  },
  {
   "cell_type": "code",
   "execution_count": 646,
   "metadata": {},
   "outputs": [
    {
     "name": "stdout",
     "output_type": "stream",
     "text": [
      "The business metric is 17.9%\n"
     ]
    }
   ],
   "source": [
    "print(f'The business metric is {business_metrics(y_test, preds)}%')"
   ]
  },
  {
   "cell_type": "markdown",
   "metadata": {
    "id": "ARi0hYPrsI4x"
   },
   "source": [
    "# Часть 5 (3 балла) | Реализация сервиса на FastAPI"
   ]
  },
  {
   "cell_type": "markdown",
   "metadata": {
    "id": "03rHiCmGKGU8"
   },
   "source": [
    "Cделайте с помощью FastAPI сервис, который с точки зрения пользователя реализует две функции:\n",
    "\n",
    "1. на вход в формате json подаются признаки одного объекта, на выходе сервис выдает предсказанную стоимость машины\n",
    "2. на вход подается csv-файл с признаками тестовых объектов, на выходе получаем файл с +1 столбцом - предсказаниями на этих объектах\n",
    "\n",
    "С точки зрения реализации это означает следующее:\n",
    "- средствами pydantic должен быть описан класс базового объекта\n",
    "- класс с коллецией объектов\n",
    "- метод post, который получает на вход один объект описанного класса\n",
    "- метод post, который получает на вход коллекцию объектов описанного класса\n",
    "\n",
    "Шаблон для сервисной части дан ниже. Код необходимо дополнить и оформить в виде отдельного .py-файла."
   ]
  },
  {
   "cell_type": "code",
   "execution_count": 252,
   "metadata": {},
   "outputs": [],
   "source": [
    "#pkl_filename = \"../car.pkl\"\n",
    "#with open(pkl_filename, 'wb') as file:\n",
    "#    pickle.dump(ridge, file)"
   ]
  },
  {
   "cell_type": "code",
   "execution_count": 253,
   "metadata": {},
   "outputs": [],
   "source": [
    "#scaler_pickle = \"../scaler.pkl\"\n",
    "#with open(scaler_pickle, 'wb') as file:\n",
    "#    pickle.dump(scaler, file)"
   ]
  },
  {
   "cell_type": "code",
   "execution_count": 254,
   "metadata": {},
   "outputs": [],
   "source": [
    "#encoder_pickle = \"../encoder.pkl\"\n",
    "#with open(encoder_pickle, 'wb') as file:\n",
    "#    pickle.dump(encoder, file)"
   ]
  },
  {
   "cell_type": "markdown",
   "metadata": {
    "id": "3U29qIjog18v"
   },
   "source": [
    "Протестируйте сервис на корректность работы и приложите скриншоты (см. ниже)."
   ]
  },
  {
   "cell_type": "markdown",
   "metadata": {
    "id": "V4fq_10xsaHg"
   },
   "source": [
    "# Часть 6 (1 балл) | Оформление результатов"
   ]
  },
  {
   "cell_type": "markdown",
   "metadata": {
    "id": "nmwf-ZrEKZy6"
   },
   "source": [
    "**Результаты вашей работы** необходимо разместить в своем Гитхабе. Под результатами понимаем следующее:\n",
    "* .ipynb-ноутбук со всеми проведёнными вами экспериментами (output'ы ячеек, разумеется, сохранить)\n",
    "* .py-файл с реализацией сервиса\n",
    "* .pickle-файл с сохранёнными весами модели, коэффициентами скейлинга и прочими числовыми значениями, которые могут понадобиться для инференса\n",
    "* .md-файл с выводами про проделанной вами работе:\n",
    "    * что было сделано\n",
    "    * с какими результатами\n",
    "    * что дало наибольший буст в качестве\n",
    "    * что сделать не вышло и почему (это нормально, даже хорошо😀)\n",
    "\n",
    "**За что могут быть сняты баллы в этом пункте:**\n",
    "* за отсутствие ``.pickle``-файла с весами использованной модели\n",
    "* за недостаточную аналитику в ``.md``-файле\n",
    "* за оформление и логику кода (в определённом смысле это тоже элемент оформления решения)\n",
    "\n",
    "**Как будет выглядет проверка всего домашнего задания?**\n",
    "1. Ассистент проходит по ссылке на (**открытый**) репозиторий из Энитаска\n",
    "2. Смотрит readme.md:\n",
    "    * пожалуйста, приложите в него же скрины работы вашего сервиса -- собирать ваши проекты довольно времязатратно, но хочется убедиться, что всё работает\n",
    "3. Просматривает ноутбук с pure-DS частью\n",
    "4. Заглядывает в код сервиса\n",
    "5. Хвалит"
   ]
  },
  {
   "cell_type": "markdown",
   "metadata": {
    "id": "QSIEzw6sN8Zp"
   },
   "source": [
    "# Часть Благодарственная"
   ]
  },
  {
   "cell_type": "markdown",
   "metadata": {
    "id": "lWOSqmLWOAr-"
   },
   "source": [
    "Надеемся, вы честно проделали все пункты, а не просто пролистали до сюда. Потому что здесь награда за старания. Пожалуйста, не стоит награждать себя до того, как закончите работать над домашкой.\n",
    "\n",
    "https://drive.google.com/file/d/1LT06nyg9QgVi3r-D5BY-_mQ9TcJQFxJN/view?usp=share_link"
   ]
  }
 ],
 "metadata": {
  "colab": {
   "provenance": []
  },
  "kernelspec": {
   "display_name": "Python 3",
   "language": "python",
   "name": "python3"
  },
  "language_info": {
   "codemirror_mode": {
    "name": "ipython",
    "version": 3
   },
   "file_extension": ".py",
   "mimetype": "text/x-python",
   "name": "python",
   "nbconvert_exporter": "python",
   "pygments_lexer": "ipython3",
   "version": "3.7.6"
  }
 },
 "nbformat": 4,
 "nbformat_minor": 1
}
